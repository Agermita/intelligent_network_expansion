{
 "cells": [
  {
   "cell_type": "markdown",
   "id": "abc99e21",
   "metadata": {},
   "source": [
    "# Imports"
   ]
  },
  {
   "cell_type": "code",
   "execution_count": null,
   "id": "b4bbd846",
   "metadata": {},
   "outputs": [],
   "source": [
    "%load_ext autoreload\n",
    "%autoreload 2"
   ]
  },
  {
   "cell_type": "code",
   "execution_count": null,
   "id": "8169d56c",
   "metadata": {},
   "outputs": [],
   "source": [
    "#usefull imports\n",
    "import numpy as np\n",
    "import pandas as pd\n",
    "import os\n",
    "import matplotlib\n",
    "import matplotlib.pyplot as plt\n",
    "import seaborn as sns\n",
    "from sklearn.preprocessing import OneHotEncoder\n",
    "from sklearn.preprocessing import RobustScaler"
   ]
  },
  {
   "cell_type": "markdown",
   "id": "cec5d8d2",
   "metadata": {},
   "source": [
    "# loading data"
   ]
  },
  {
   "cell_type": "code",
   "execution_count": null,
   "id": "d152dc6b",
   "metadata": {},
   "outputs": [],
   "source": [
    "#Path\n",
    "csv_path = os.path.join(os.getcwd(),  'raw_data')\n",
    "#files to concatenate\n",
    "files=['LTE KPIs Part 1.csv','LTE KPIs Part 2.csv','LTE KPIs Part 3.csv','LTE KPIs Part 4.csv']\n",
    "#Concatanating files\n",
    "def concat_files(path,liste_files):\n",
    "# Charger les données du premier fichier CSV\n",
    "    data=pd.DataFrame()\n",
    "    for file in liste_files:\n",
    "        df = pd.read_csv(os.path.join(path, file),sep=\";\")\n",
    "        data= pd.concat([data, df], axis=0, ignore_index=True)\n",
    "    return data\n"
   ]
  },
  {
   "cell_type": "code",
   "execution_count": null,
   "id": "ca345fc7",
   "metadata": {},
   "outputs": [],
   "source": [
    "#add city and city type to dataframe\n",
    "file='site_city_type.csv'\n",
    "def add_cities(path,file,dataframe):\n",
    "    df = pd.read_csv(os.path.join(path,file), sep=\";\")\n",
    "    df.rename(columns={\"eNodeB ID\": \"eNodeB identity\"}, inplace=True)\n",
    "    return (dataframe.merge(df, on=\"eNodeB identity\", how=\"left\"))"
   ]
  },
  {
   "cell_type": "code",
   "execution_count": null,
   "id": "0f73e869",
   "metadata": {},
   "outputs": [],
   "source": [
    "data=add_cities(csv_path,file,concat_files(csv_path,files))"
   ]
  },
  {
   "cell_type": "code",
   "execution_count": null,
   "id": "7b2acdb3",
   "metadata": {},
   "outputs": [],
   "source": [
    "data.head()"
   ]
  },
  {
   "cell_type": "code",
   "execution_count": null,
   "id": "e03308fe",
   "metadata": {},
   "outputs": [],
   "source": [
    "print(data.shape)\n",
    "print(data.dtypes)"
   ]
  },
  {
   "cell_type": "markdown",
   "id": "0df4a9b8",
   "metadata": {},
   "source": [
    "# Transforming numerical values with \",\" + date processing"
   ]
  },
  {
   "cell_type": "code",
   "execution_count": null,
   "id": "113e9306",
   "metadata": {},
   "outputs": [],
   "source": [
    "#Transform date from str to date format\n",
    "data['Date'] = pd.to_datetime(data['Date'], format='%Y-%m-%d')"
   ]
  },
  {
   "cell_type": "code",
   "execution_count": null,
   "id": "11475fd6",
   "metadata": {},
   "outputs": [],
   "source": [
    "#L.Traffic.User.Avg\n",
    "#replacing string values by float values\n",
    "def replace_str_to_float(column_name):\n",
    "    nb_ligne=data.shape[0]\n",
    "    new_column=[]\n",
    "    new_val=0\n",
    "    for n in range(nb_ligne):\n",
    "        new_val=data[column_name][n].replace(',','.')\n",
    "        new_val=new_val.replace('/','')\n",
    "        new_column.append(float(new_val))\n",
    "    return new_column\n",
    "\n",
    "data['Trafic LTE.float']=replace_str_to_float('Trafic LTE')\n",
    "data['L.Traffic.ActiveUser.Avg.float']=replace_str_to_float('L.Traffic.ActiveUser.Avg')\n",
    "data['L.Traffic.User.Avg.float']=replace_str_to_float('L.Traffic.User.Avg')\n",
    "data['DL throughput_GRP.float']=replace_str_to_float('DL throughput_GRP')\n",
    "data['DL PRB Usage.float']=replace_str_to_float('DL PRB Usage(%)')"
   ]
  },
  {
   "cell_type": "code",
   "execution_count": null,
   "id": "913ece77",
   "metadata": {},
   "outputs": [],
   "source": [
    "#dropping non numerical values\n",
    "data.drop(columns=['Trafic LTE','L.Traffic.ActiveUser.Avg','L.Traffic.User.Avg','DL throughput_GRP','DL PRB Usage(%)'], inplace=True)"
   ]
  },
  {
   "cell_type": "markdown",
   "id": "dea0fb71",
   "metadata": {},
   "source": [
    "# scaling the data"
   ]
  },
  {
   "cell_type": "code",
   "execution_count": null,
   "id": "d14a7fa2",
   "metadata": {},
   "outputs": [],
   "source": [
    "columns_to_scal=['Trafic LTE.float','L.Traffic.ActiveUser.Avg.float','L.Traffic.User.Avg.float','DL throughput_GRP.float','DL PRB Usage.float']\n",
    "def data_scaling(dataframe,columns_to_scal):\n",
    "    rb_scaler = RobustScaler()\n",
    "    for column in columns_to_scal:\n",
    "        rb_scaler.fit(data[[column]])\n",
    "        dataframe[column+'.scaled'] = rb_scaler.transform(data[[column]])\n",
    "    return dataframe"
   ]
  },
  {
   "cell_type": "code",
   "execution_count": null,
   "id": "a3c11baf",
   "metadata": {},
   "outputs": [],
   "source": [
    "data=data_scaling(data,columns_to_scal)"
   ]
  },
  {
   "cell_type": "code",
   "execution_count": null,
   "id": "8a2ce374",
   "metadata": {},
   "outputs": [],
   "source": [
    "#dropping non scaled values\n",
    "data.drop(columns=['L.Traffic.ActiveUser.Avg.float','L.Traffic.User.Avg.float','DL throughput_GRP.float','DL PRB Usage.float'], inplace=True)"
   ]
  },
  {
   "cell_type": "markdown",
   "id": "f8feb825",
   "metadata": {},
   "source": [
    "# Adding missing dates and ID"
   ]
  },
  {
   "cell_type": "code",
   "execution_count": null,
   "id": "a91a5e5b",
   "metadata": {},
   "outputs": [],
   "source": [
    "data['eNodeB_identifier_int']=(((256*data['eNodeB identity'])+(data['Cell ID'])))\n",
    "#data['eNodeB_identifier']=data['eNodeB_identifier'].astype(float)\n",
    "print(data['eNodeB_identifier_int'].value_counts())\n",
    "type(data['eNodeB_identifier_int'].value_counts())\n",
    "data['eNodeB_identifier_int'].value_counts().shape\n"
   ]
  },
  {
   "cell_type": "code",
   "execution_count": null,
   "id": "e9c64d4b",
   "metadata": {},
   "outputs": [],
   "source": [
    "def replace_missing_dates(df, start_date, end_date) -> pd.DataFrame :\n",
    "    missing_date=pd.date_range(start = start_date, end = end_date ).difference(df[\"Date\"])\n",
    "    \n",
    "    df_new=df.copy()\n",
    "    if(len(missing_date)>0):\n",
    "        for i in range(0,len(missing_date)):\n",
    "            data_sub={'Date': missing_date[i], \n",
    "                    'eNodeB identity': df['eNodeB identity'][0], \n",
    "                    'Cell ID' : df['Cell ID'][0],\n",
    "                    'Cell FDD TDD Indication' :df['Cell FDD TDD Indication'][0],\n",
    "                    'Downlink EARFCN' :df['Downlink EARFCN'][0],\n",
    "                    'Downlink bandwidth' : df['Downlink bandwidth'][0],\n",
    "                    'LTECell Tx and Rx Mode': df['LTECell Tx and Rx Mode'][0],\n",
    "                    'Trafic LTE.float': -10,\n",
    "                    'L.Traffic.ActiveUser.Avg.float.scaled': -10,\n",
    "                    'L.Traffic.User.Avg.float.scaled':-10,\n",
    "                    'DL throughput_GRP.float.scaled': -10,\n",
    "                    'DL PRB Usage.float.scaled' : -10,\n",
    "                    'City' : df['City'][0], \n",
    "                    'City Type':df['City Type'][0],\n",
    "                    'eNodeB_identifier_int':df['eNodeB_identifier_int'][0],\n",
    "                    'Trafic LTE.float.scaled': -10\n",
    "                    }\n",
    "            print (data_sub)\n",
    "            new_row=pd.DataFrame([data_sub])\n",
    "            df_new=pd.concat([df_new,new_row])\n",
    "            df_new.sort_values('Date')\n",
    "    return df_new"
   ]
  },
  {
   "cell_type": "code",
   "execution_count": null,
   "id": "c0453804",
   "metadata": {},
   "outputs": [],
   "source": [
    "def replace_missing_dates_all(df) -> pd.DataFrame :\n",
    "    cells=df[['eNodeB_identifier_int']]\n",
    "    cells=cells.drop_duplicates()\n",
    "    start_date=df['Date'].min()\n",
    "    end_date=df['Date'].max()\n",
    "\n",
    "    for index, row in cells.iterrows():\n",
    "        df_cell=df[(df[\"eNodeB_identifier_int\"]==row[0])]\n",
    "        df_cell=df_cell.reset_index(drop=True)\n",
    "\n",
    "        df_cell=replace_missing_dates(df_cell, start_date, end_date)\n",
    "        if index==0:\n",
    "            df_new=df_cell\n",
    "        else:\n",
    "            df_new=pd.concat([df_new,df_cell])\n",
    "\n",
    "    return df_new"
   ]
  },
  {
   "cell_type": "code",
   "execution_count": null,
   "id": "4d30e3cd",
   "metadata": {},
   "outputs": [],
   "source": [
    "data=replace_missing_dates_all(data)"
   ]
  },
  {
   "cell_type": "code",
   "execution_count": null,
   "id": "e55fca68",
   "metadata": {},
   "outputs": [],
   "source": [
    "data.shape"
   ]
  },
  {
   "cell_type": "code",
   "execution_count": null,
   "id": "8efa3121",
   "metadata": {},
   "outputs": [],
   "source": [
    "data.head()"
   ]
  },
  {
   "cell_type": "code",
   "execution_count": null,
   "id": "e0be09de",
   "metadata": {},
   "outputs": [],
   "source": [
    "data.to_csv(\"data_finale_08_08_2023.csv\")"
   ]
  },
  {
   "cell_type": "code",
   "execution_count": null,
   "id": "3b9770f2",
   "metadata": {},
   "outputs": [],
   "source": [
    "data=data_new\n"
   ]
  },
  {
   "cell_type": "code",
   "execution_count": null,
   "id": "3887b41e",
   "metadata": {},
   "outputs": [],
   "source": [
    "data.head()"
   ]
  },
  {
   "cell_type": "markdown",
   "id": "35801406",
   "metadata": {},
   "source": [
    "# Encoding non numerical values"
   ]
  },
  {
   "cell_type": "code",
   "execution_count": null,
   "id": "40046533",
   "metadata": {},
   "outputs": [],
   "source": [
    "data['Cell FDD TDD Indication'].value_counts()"
   ]
  },
  {
   "cell_type": "code",
   "execution_count": null,
   "id": "f6161d5b",
   "metadata": {},
   "outputs": [],
   "source": [
    "# Check unique values for Cell FDD TDD Indication\n",
    "print(f\"The unique values for 'Downlink EARFCN' are {data['Cell FDD TDD Indication'].unique()}\")\n",
    "# Instantiate the OneHotEncoder\n",
    "ohe_Cell_FDD_TDD_Indication = OneHotEncoder(sparse = False)\n",
    "# Fit encoder\n",
    "ohe_Cell_FDD_TDD_Indication.fit(data[['Cell FDD TDD Indication']])\n",
    "# Display the detected categories\n",
    "print(f\"The categories detected by the OneHotEncoder are {ohe_Cell_FDD_TDD_Indication.categories_}\")\n",
    "# Display the generated names\n",
    "print(f\"The column names for the encoded values are {ohe_Cell_FDD_TDD_Indication.get_feature_names_out()}\")\n",
    "# Transform the current \"Street\" column\n",
    "data[ohe_Cell_FDD_TDD_Indication.get_feature_names_out()] = ohe_Cell_FDD_TDD_Indication.transform(data[['Cell FDD TDD Indication']])\n",
    "# Drop the column \"Street\" which has been encoded\n",
    "#data.drop(columns = ['City'], inplace = True)\n",
    "# Show the dataset\n",
    "data.head(3)"
   ]
  },
  {
   "cell_type": "code",
   "execution_count": null,
   "id": "27fb3daa",
   "metadata": {},
   "outputs": [],
   "source": [
    "data['Downlink EARFCN'].value_counts()"
   ]
  },
  {
   "cell_type": "code",
   "execution_count": null,
   "id": "b8cb5cb2",
   "metadata": {},
   "outputs": [],
   "source": [
    "# Check unique values for Downlink EARFCN Tx and Rx Mode\n",
    "print(f\"The unique values for 'Downlink EARFCN' are {data['Downlink EARFCN'].unique()}\")\n",
    "# Instantiate the OneHotEncoder\n",
    "ohe_Downlink_EARFCN = OneHotEncoder(sparse = False)\n",
    "# Fit encoder\n",
    "ohe_Downlink_EARFCN.fit(data[['Downlink EARFCN']])\n",
    "# Display the detected categories\n",
    "print(f\"The categories detected by the OneHotEncoder are {ohe_Downlink_EARFCN.categories_}\")\n",
    "# Display the generated names\n",
    "print(f\"The column names for the encoded values are {ohe_Downlink_EARFCN.get_feature_names_out()}\")\n",
    "# Transform the current \"Street\" column\n",
    "data[ohe_Downlink_EARFCN.get_feature_names_out()] = ohe_Downlink_EARFCN.transform(data[['Downlink EARFCN']])\n",
    "# Drop the column \"Street\" which has been encoded\n",
    "#data.drop(columns = ['City'], inplace = True)\n",
    "# Show the dataset\n",
    "data.head(3)"
   ]
  },
  {
   "cell_type": "code",
   "execution_count": null,
   "id": "8d0554a0",
   "metadata": {},
   "outputs": [],
   "source": [
    "data['Downlink bandwidth'].value_counts()"
   ]
  },
  {
   "cell_type": "code",
   "execution_count": null,
   "id": "f2d47574",
   "metadata": {},
   "outputs": [],
   "source": [
    "# Check unique values for Downlink bandwidth\n",
    "print(f\"The unique values for 'Downlink bandwidth' are {data['Downlink bandwidth'].unique()}\")\n",
    "# Instantiate the OneHotEncoder\n",
    "ohe_Downlink_bandwidth = OneHotEncoder(sparse = False)\n",
    "# Fit encoder\n",
    "ohe_Downlink_bandwidth.fit(data[['Downlink bandwidth']])\n",
    "# Display the detected categories\n",
    "print(f\"The categories detected by the OneHotEncoder are {ohe_Downlink_bandwidth.categories_}\")\n",
    "# Display the generated names\n",
    "print(f\"The column names for the encoded values are {ohe_Downlink_bandwidth.get_feature_names_out()}\")\n",
    "# Transform the current \"Street\" column\n",
    "data[ohe_Downlink_bandwidth.get_feature_names_out()] = ohe_Downlink_bandwidth.transform(data[['Downlink bandwidth']])\n",
    "# Drop the column \"Street\" which has been encoded\n",
    "#data.drop(columns = ['City'], inplace = True)\n",
    "# Show the dataset\n",
    "data.head(3)"
   ]
  },
  {
   "cell_type": "code",
   "execution_count": null,
   "id": "802228c0",
   "metadata": {},
   "outputs": [],
   "source": [
    "data['LTECell Tx and Rx Mode'].value_counts()"
   ]
  },
  {
   "cell_type": "code",
   "execution_count": null,
   "id": "8710b019",
   "metadata": {},
   "outputs": [],
   "source": [
    "# Check unique values for LTECell Tx and Rx Mode\n",
    "print(f\"The unique values for 'Street' are {data['LTECell Tx and Rx Mode'].unique()}\")\n",
    "# Instantiate the OneHotEncoder\n",
    "ohe_LTECell_Tx_and_Rx_Mode = OneHotEncoder(sparse = False)\n",
    "# Fit encoder\n",
    "ohe_LTECell_Tx_and_Rx_Mode.fit(data[[\"LTECell Tx and Rx Mode\"]])\n",
    "# Display the detected categories\n",
    "print(f\"The categories detected by the OneHotEncoder are {ohe_LTECell_Tx_and_Rx_Mode.categories_}\")\n",
    "# Display the generated names\n",
    "print(f\"The column names for the encoded values are {ohe_LTECell_Tx_and_Rx_Mode.get_feature_names_out()}\")\n",
    "# Transform the current \"Street\" column\n",
    "data[ohe_LTECell_Tx_and_Rx_Mode.get_feature_names_out()] = ohe_LTECell_Tx_and_Rx_Mode.transform(data[['LTECell Tx and Rx Mode']])\n",
    "# Drop the column \"Street\" which has been encoded\n",
    "#data.drop(columns = ['City'], inplace = True)\n",
    "# Show the dataset\n",
    "data.head(3)"
   ]
  },
  {
   "cell_type": "code",
   "execution_count": null,
   "id": "d2bc20c4",
   "metadata": {},
   "outputs": [],
   "source": [
    "data['City'].value_counts()"
   ]
  },
  {
   "cell_type": "code",
   "execution_count": null,
   "id": "cb9fd80e",
   "metadata": {},
   "outputs": [],
   "source": [
    "\n",
    "# Check unique values for city\n",
    "print(f\"The unique values for 'City' are {data.City.unique()}\")\n",
    "# Instantiate the OneHotEncoder\n",
    "ohe_city = OneHotEncoder(sparse = False)\n",
    "# Fit encoder\n",
    "ohe_city.fit(data[[\"City\"]])\n",
    "# Display the detected categories\n",
    "print(f\"The categories detected by the OneHotEncoder are {ohe_city.categories_}\")\n",
    "# Display the generated names\n",
    "print(f\"The column names for the encoded values are {ohe_city.get_feature_names_out()}\")\n",
    "# Transform the current \"Street\" column\n",
    "data[ohe_city.get_feature_names_out()] = ohe_city.transform(data[['City']])\n",
    "# Drop the column \"Street\" which has been encoded\n",
    "#data.drop(columns = ['City'], inplace = True)\n",
    "# Show the dataset\n",
    "data.head(3)\n"
   ]
  },
  {
   "cell_type": "code",
   "execution_count": null,
   "id": "ae672ee8",
   "metadata": {},
   "outputs": [],
   "source": [
    "#encoding citytype...\n",
    "data['City Type'].value_counts()"
   ]
  },
  {
   "cell_type": "code",
   "execution_count": null,
   "id": "c469d9ec",
   "metadata": {},
   "outputs": [],
   "source": [
    "# Check unique values for City Type\n",
    "print(f\"The unique values for 'City' are {data['City Type'].unique()}\")\n",
    "# Instantiate the OneHotEncoder\n",
    "ohe_City_Type = OneHotEncoder(sparse = False)\n",
    "# Fit encoder\n",
    "ohe_City_Type.fit(data[[\"City Type\"]])\n",
    "# Display the detected categories\n",
    "print(f\"The categories detected by the OneHotEncoder are {ohe_City_Type.categories_}\")\n",
    "# Display the generated names\n",
    "print(f\"The column names for the encoded values are {ohe_City_Type.get_feature_names_out()}\")\n",
    "# Transform the current \"Street\" column\n",
    "data[ohe_City_Type.get_feature_names_out()] = ohe_City_Type.transform(data[['City Type']])\n",
    "# Drop the column \"Street\" which has been encoded\n",
    "#data.drop(columns = ['City'], inplace = True)\n",
    "# Show the dataset\n",
    "data.head(3)"
   ]
  },
  {
   "cell_type": "code",
   "execution_count": null,
   "id": "e4c2500b",
   "metadata": {},
   "outputs": [],
   "source": [
    "data.head()"
   ]
  },
  {
   "cell_type": "code",
   "execution_count": null,
   "id": "b40a7b43",
   "metadata": {},
   "outputs": [],
   "source": [
    "data.drop(columns=['Cell FDD TDD Indication','Downlink EARFCN','Downlink bandwidth','LTECell Tx and Rx Mode','City','City Type'], inplace=True)"
   ]
  },
  {
   "cell_type": "code",
   "execution_count": null,
   "id": "f2e61c80",
   "metadata": {},
   "outputs": [],
   "source": [
    "data.to_csv(\"data_finale_08_08_2023.csv\")"
   ]
  },
  {
   "cell_type": "code",
   "execution_count": null,
   "id": "3572ff5a",
   "metadata": {},
   "outputs": [],
   "source": [
    "data.dtypes"
   ]
  },
  {
   "cell_type": "markdown",
   "id": "e93ace9b",
   "metadata": {},
   "source": [
    "# Cleaning Data"
   ]
  },
  {
   "cell_type": "code",
   "execution_count": null,
   "id": "4a200143",
   "metadata": {},
   "outputs": [],
   "source": [
    "data.dtype"
   ]
  },
  {
   "cell_type": "code",
   "execution_count": null,
   "id": "eb9da473",
   "metadata": {},
   "outputs": [],
   "source": [
    "data.head()"
   ]
  },
  {
   "cell_type": "markdown",
   "id": "3ab31911",
   "metadata": {},
   "source": [
    "# Data scaling"
   ]
  },
  {
   "cell_type": "code",
   "execution_count": null,
   "id": "dc491a6f",
   "metadata": {},
   "outputs": [],
   "source": [
    "data.to_csv(\"data_finale_V4.csv\")"
   ]
  },
  {
   "cell_type": "code",
   "execution_count": null,
   "id": "89664d4d",
   "metadata": {},
   "outputs": [],
   "source": [
    "data[\"L.Traffic.User.Avg\"].value_counts().sort_values()\n",
    "data['eNodeB_identifier_int'].value_counts()\n",
    "data['eNodeB_identifier_int'].unique"
   ]
  },
  {
   "cell_type": "code",
   "execution_count": null,
   "id": "bf53f72e",
   "metadata": {},
   "outputs": [],
   "source": [
    "data_site=data.loc[data['eNodeB identity'] == 146007]\n",
    "sns.relplot(\n",
    "    data=data_site, kind=\"line\",\n",
    "    x='Date', y='L.Traffic.User.Avg.float',col=\"encoded_Downlink_EARFCN\",\n",
    "    hue=\"Cell ID\",  style=\"Cell ID\"\n",
    ");"
   ]
  },
  {
   "cell_type": "code",
   "execution_count": null,
   "id": "9971452c",
   "metadata": {},
   "outputs": [],
   "source": [
    "data.to_csv(\"data.csv\")"
   ]
  },
  {
   "cell_type": "code",
   "execution_count": null,
   "id": "7f769419",
   "metadata": {},
   "outputs": [],
   "source": []
  }
 ],
 "metadata": {
  "kernelspec": {
   "display_name": "Python 3 (ipykernel)",
   "language": "python",
   "name": "python3"
  },
  "language_info": {
   "codemirror_mode": {
    "name": "ipython",
    "version": 3
   },
   "file_extension": ".py",
   "mimetype": "text/x-python",
   "name": "python",
   "nbconvert_exporter": "python",
   "pygments_lexer": "ipython3",
   "version": "3.10.6"
  },
  "toc": {
   "base_numbering": 1,
   "nav_menu": {},
   "number_sections": true,
   "sideBar": true,
   "skip_h1_title": false,
   "title_cell": "Table of Contents",
   "title_sidebar": "Contents",
   "toc_cell": false,
   "toc_position": {},
   "toc_section_display": true,
   "toc_window_display": false
  }
 },
 "nbformat": 4,
 "nbformat_minor": 5
}
