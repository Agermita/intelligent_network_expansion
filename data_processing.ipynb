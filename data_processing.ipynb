{
 "cells": [
  {
   "cell_type": "markdown",
   "id": "1eb3d06e",
   "metadata": {},
   "source": [
    "# Imports"
   ]
  },
  {
   "cell_type": "code",
   "execution_count": 1,
   "id": "94c6914f",
   "metadata": {},
   "outputs": [],
   "source": [
    "%load_ext autoreload\n",
    "%autoreload 2"
   ]
  },
  {
   "cell_type": "code",
   "execution_count": 228,
   "id": "122f0da9",
   "metadata": {},
   "outputs": [],
   "source": [
    "#usefull imports\n",
    "import numpy as np\n",
    "import pandas as pd\n",
    "import os\n",
    "import matplotlib\n",
    "import matplotlib.pyplot as plt\n",
    "import seaborn as sns\n",
    "from sklearn.preprocessing import OrdinalEncoder"
   ]
  },
  {
   "cell_type": "markdown",
   "id": "2116348d",
   "metadata": {},
   "source": [
    "# loading data"
   ]
  },
  {
   "cell_type": "code",
   "execution_count": 229,
   "id": "376e9ef7",
   "metadata": {},
   "outputs": [
    {
     "data": {
      "text/plain": [
       "'/home/maria/code/MariaRJ2023/intelligent-network-expansion/raw_data'"
      ]
     },
     "execution_count": 229,
     "metadata": {},
     "output_type": "execute_result"
    }
   ],
   "source": [
    "#getting path\n",
    "os.getcwd()\n",
    "csv_path = os.path.join(os.getcwd(),  'raw_data')\n",
    "csv_path\n"
   ]
  },
  {
   "cell_type": "code",
   "execution_count": 182,
   "id": "8e4d1094",
   "metadata": {},
   "outputs": [],
   "source": [
    "#pd.read_csv(os.path.join(csv_path, 'LTE KPIs Part 1.csv'),sep=\";\").head()"
   ]
  },
  {
   "cell_type": "code",
   "execution_count": 230,
   "id": "abb1f84e",
   "metadata": {},
   "outputs": [],
   "source": [
    "data=pd.read_csv(os.path.join(csv_path, 'LTE KPIs Part 1.csv'),sep=\";\")"
   ]
  },
  {
   "cell_type": "code",
   "execution_count": 231,
   "id": "e2124580",
   "metadata": {},
   "outputs": [
    {
     "data": {
      "text/html": [
       "<div>\n",
       "<style scoped>\n",
       "    .dataframe tbody tr th:only-of-type {\n",
       "        vertical-align: middle;\n",
       "    }\n",
       "\n",
       "    .dataframe tbody tr th {\n",
       "        vertical-align: top;\n",
       "    }\n",
       "\n",
       "    .dataframe thead th {\n",
       "        text-align: right;\n",
       "    }\n",
       "</style>\n",
       "<table border=\"1\" class=\"dataframe\">\n",
       "  <thead>\n",
       "    <tr style=\"text-align: right;\">\n",
       "      <th></th>\n",
       "      <th>Date</th>\n",
       "      <th>eNodeB identity</th>\n",
       "      <th>Cell ID</th>\n",
       "      <th>Cell FDD TDD Indication</th>\n",
       "      <th>Downlink EARFCN</th>\n",
       "      <th>Downlink bandwidth</th>\n",
       "      <th>LTECell Tx and Rx Mode</th>\n",
       "      <th>Trafic LTE</th>\n",
       "      <th>L.Traffic.ActiveUser.Avg</th>\n",
       "      <th>L.Traffic.User.Avg</th>\n",
       "      <th>DL throughput_GRP</th>\n",
       "      <th>DL PRB Usage(%)</th>\n",
       "    </tr>\n",
       "  </thead>\n",
       "  <tbody>\n",
       "    <tr>\n",
       "      <th>0</th>\n",
       "      <td>2022-08-17</td>\n",
       "      <td>146007</td>\n",
       "      <td>1</td>\n",
       "      <td>CELL_FDD</td>\n",
       "      <td>Band_1</td>\n",
       "      <td>CELL_BW_N100</td>\n",
       "      <td>2T2R</td>\n",
       "      <td>62,2448</td>\n",
       "      <td>2,0625</td>\n",
       "      <td>42,7677</td>\n",
       "      <td>24,5815</td>\n",
       "      <td>14,6073</td>\n",
       "    </tr>\n",
       "    <tr>\n",
       "      <th>1</th>\n",
       "      <td>2022-08-17</td>\n",
       "      <td>146007</td>\n",
       "      <td>2</td>\n",
       "      <td>CELL_FDD</td>\n",
       "      <td>Band_1</td>\n",
       "      <td>CELL_BW_N100</td>\n",
       "      <td>2T2R</td>\n",
       "      <td>79,4215</td>\n",
       "      <td>2,6462</td>\n",
       "      <td>41,2266</td>\n",
       "      <td>13,618</td>\n",
       "      <td>28,7316</td>\n",
       "    </tr>\n",
       "    <tr>\n",
       "      <th>2</th>\n",
       "      <td>2022-08-17</td>\n",
       "      <td>146007</td>\n",
       "      <td>3</td>\n",
       "      <td>CELL_FDD</td>\n",
       "      <td>Band_1</td>\n",
       "      <td>CELL_BW_N100</td>\n",
       "      <td>2T2R</td>\n",
       "      <td>75,3552</td>\n",
       "      <td>2,0158</td>\n",
       "      <td>32,4667</td>\n",
       "      <td>28,3735</td>\n",
       "      <td>16,2728</td>\n",
       "    </tr>\n",
       "  </tbody>\n",
       "</table>\n",
       "</div>"
      ],
      "text/plain": [
       "         Date  eNodeB identity  Cell ID Cell FDD TDD Indication  \\\n",
       "0  2022-08-17           146007        1                CELL_FDD   \n",
       "1  2022-08-17           146007        2                CELL_FDD   \n",
       "2  2022-08-17           146007        3                CELL_FDD   \n",
       "\n",
       "  Downlink EARFCN Downlink bandwidth LTECell Tx and Rx Mode Trafic LTE  \\\n",
       "0          Band_1       CELL_BW_N100                   2T2R    62,2448   \n",
       "1          Band_1       CELL_BW_N100                   2T2R    79,4215   \n",
       "2          Band_1       CELL_BW_N100                   2T2R    75,3552   \n",
       "\n",
       "  L.Traffic.ActiveUser.Avg L.Traffic.User.Avg DL throughput_GRP  \\\n",
       "0                   2,0625            42,7677           24,5815   \n",
       "1                   2,6462            41,2266            13,618   \n",
       "2                   2,0158            32,4667           28,3735   \n",
       "\n",
       "  DL PRB Usage(%)  \n",
       "0         14,6073  \n",
       "1         28,7316  \n",
       "2         16,2728  "
      ]
     },
     "execution_count": 231,
     "metadata": {},
     "output_type": "execute_result"
    }
   ],
   "source": [
    "data.head(3)"
   ]
  },
  {
   "cell_type": "code",
   "execution_count": 233,
   "id": "fd341d08",
   "metadata": {},
   "outputs": [
    {
     "data": {
      "text/plain": [
       "<bound method DataFrame.info of               Date  eNodeB identity  Cell ID Cell FDD TDD Indication  \\\n",
       "0       2022-08-17           146007        1                CELL_FDD   \n",
       "1       2022-08-17           146007        2                CELL_FDD   \n",
       "2       2022-08-17           146007        3                CELL_FDD   \n",
       "3       2022-08-17           146603        1                CELL_FDD   \n",
       "4       2022-08-17           146603        2                CELL_FDD   \n",
       "...            ...              ...      ...                     ...   \n",
       "431872  2023-07-27           148002        8                CELL_FDD   \n",
       "431873  2023-07-27           148002        7                CELL_FDD   \n",
       "431874  2023-07-27           148007        9                CELL_FDD   \n",
       "431875  2023-07-27           148007        8                CELL_FDD   \n",
       "431876  2023-07-27           148007        7                CELL_FDD   \n",
       "\n",
       "       Downlink EARFCN Downlink bandwidth LTECell Tx and Rx Mode Trafic LTE  \\\n",
       "0               Band_1       CELL_BW_N100                   2T2R    62,2448   \n",
       "1               Band_1       CELL_BW_N100                   2T2R    79,4215   \n",
       "2               Band_1       CELL_BW_N100                   2T2R    75,3552   \n",
       "3               Band_1       CELL_BW_N100                   2T2R   135,2522   \n",
       "4               Band_1       CELL_BW_N100                   2T2R   169,5315   \n",
       "...                ...                ...                    ...        ...   \n",
       "431872          Band_3        CELL_BW_N50                   2T2R          0   \n",
       "431873          Band_3        CELL_BW_N50                   2T2R          0   \n",
       "431874          Band_3        CELL_BW_N50                   2T2R    72,1246   \n",
       "431875          Band_3        CELL_BW_N50                   2T2R   135,9521   \n",
       "431876          Band_3        CELL_BW_N50                   2T2R    67,1202   \n",
       "\n",
       "       L.Traffic.ActiveUser.Avg L.Traffic.User.Avg DL throughput_GRP  \\\n",
       "0                        2,0625            42,7677           24,5815   \n",
       "1                        2,6462            41,2266            13,618   \n",
       "2                        2,0158            32,4667           28,3735   \n",
       "3                        3,5427            39,0666           12,6066   \n",
       "4                       11,3887            84,4495            3,3873   \n",
       "...                         ...                ...               ...   \n",
       "431872                        0                  0                /0   \n",
       "431873                        0                  0                /0   \n",
       "431874                   5,3904            28,3129            2,8127   \n",
       "431875                   18,958            89,1428            1,3098   \n",
       "431876                  11,8174              47,15            1,2225   \n",
       "\n",
       "       DL PRB Usage(%)  \n",
       "0              14,6073  \n",
       "1              28,7316  \n",
       "2              16,2728  \n",
       "3              37,4124  \n",
       "4              72,5022  \n",
       "...                ...  \n",
       "431872              /0  \n",
       "431873              /0  \n",
       "431874         64,4388  \n",
       "431875         81,5107  \n",
       "431876         79,0224  \n",
       "\n",
       "[431877 rows x 12 columns]>"
      ]
     },
     "execution_count": 233,
     "metadata": {},
     "output_type": "execute_result"
    }
   ],
   "source": [
    "data.info"
   ]
  },
  {
   "cell_type": "code",
   "execution_count": 234,
   "id": "8a51164f",
   "metadata": {},
   "outputs": [
    {
     "data": {
      "text/plain": [
       "Date                        object\n",
       "eNodeB identity              int64\n",
       "Cell ID                      int64\n",
       "Cell FDD TDD Indication     object\n",
       "Downlink EARFCN             object\n",
       "Downlink bandwidth          object\n",
       "LTECell Tx and Rx Mode      object\n",
       "Trafic LTE                  object\n",
       "L.Traffic.ActiveUser.Avg    object\n",
       "L.Traffic.User.Avg          object\n",
       "DL throughput_GRP           object\n",
       "DL PRB Usage(%)             object\n",
       "dtype: object"
      ]
     },
     "execution_count": 234,
     "metadata": {},
     "output_type": "execute_result"
    }
   ],
   "source": [
    "data.dtypes"
   ]
  },
  {
   "cell_type": "code",
   "execution_count": 236,
   "id": "0fdd1827",
   "metadata": {},
   "outputs": [],
   "source": [
    "data_shape=data.shape\n",
    "nb_ligne=data_shape[0]"
   ]
  },
  {
   "cell_type": "markdown",
   "id": "cba89446",
   "metadata": {},
   "source": [
    "# Transforming numerical values with \",\" + date processing"
   ]
  },
  {
   "cell_type": "code",
   "execution_count": 237,
   "id": "47e1755a",
   "metadata": {},
   "outputs": [],
   "source": [
    "#Transporm date from str to date format\n",
    "data['Date'] = pd.to_datetime(data['Date'], format='%Y-%m-%d')"
   ]
  },
  {
   "cell_type": "code",
   "execution_count": 238,
   "id": "a03b69b6",
   "metadata": {},
   "outputs": [],
   "source": [
    "#L.Traffic.User.Avg\n",
    "#replacing string values by float values\n",
    "def replace_str_to_float(column_name):\n",
    "    new_column=[]\n",
    "    new_val=0\n",
    "    for n in range(nb_ligne):\n",
    "        new_val=data[column_name][n].replace(',','.')\n",
    "        new_val=new_val.replace('/','')\n",
    "        new_column.append(float(new_val))\n",
    "    return new_column\n",
    "\n",
    "data['Trafic LTE.float']=replace_str_to_float('Trafic LTE')\n",
    "data['L.Traffic.ActiveUser.Avg.float']=replace_str_to_float('L.Traffic.ActiveUser.Avg')\n",
    "data['L.Traffic.User.Avg.float']=replace_str_to_float('L.Traffic.User.Avg')\n",
    "data['DL throughput_GRP.float']=replace_str_to_float('DL throughput_GRP')\n",
    "data['DL PRB Usage.float']=replace_str_to_float('DL PRB Usage(%)')"
   ]
  },
  {
   "cell_type": "markdown",
   "id": "96b0e03a",
   "metadata": {},
   "source": [
    "# Encoding non numerical values"
   ]
  },
  {
   "cell_type": "code",
   "execution_count": 240,
   "id": "284cc227",
   "metadata": {},
   "outputs": [
    {
     "data": {
      "text/plain": [
       "CELL_FDD    431877\n",
       "Name: Cell FDD TDD Indication, dtype: int64"
      ]
     },
     "execution_count": 240,
     "metadata": {},
     "output_type": "execute_result"
    }
   ],
   "source": [
    "data['Cell FDD TDD Indication'].value_counts()"
   ]
  },
  {
   "cell_type": "code",
   "execution_count": 241,
   "id": "d922bb21",
   "metadata": {},
   "outputs": [
    {
     "data": {
      "text/plain": [
       "[array(['CELL_FDD'], dtype=object)]"
      ]
     },
     "metadata": {},
     "output_type": "display_data"
    },
    {
     "data": {
      "text/plain": [
       "0.0    431877\n",
       "Name: encoded_Cell_FDD_TDD_Indication, dtype: int64"
      ]
     },
     "execution_count": 241,
     "metadata": {},
     "output_type": "execute_result"
    }
   ],
   "source": [
    "#encoding Cell FDD TDD Indication\n",
    "# Instantiate the Ordinal Encoder\n",
    "ordinal_encoder_Cell_FDD_TDD_Indication = OrdinalEncoder()\n",
    "# Fit it\n",
    "ordinal_encoder_Cell_FDD_TDD_Indication.fit(data[[\"Cell FDD TDD Indication\"]])\n",
    "# Display the learned categories\n",
    "display(ordinal_encoder_Cell_FDD_TDD_Indication.categories_)\n",
    "# Transforming categories into ordered numbers\n",
    "data[\"encoded_Cell_FDD_TDD_Indication\"] = ordinal_encoder_Cell_FDD_TDD_Indication.transform(data[[\"Cell FDD TDD Indication\"]])\n",
    "# Showing the transformed classes\n",
    "data[\"encoded_Cell_FDD_TDD_Indication\"].value_counts()"
   ]
  },
  {
   "cell_type": "code",
   "execution_count": 242,
   "id": "233a74ff",
   "metadata": {},
   "outputs": [
    {
     "data": {
      "text/plain": [
       "Band_1    213215\n",
       "Band_2    124008\n",
       "Band_3     94654\n",
       "Name: Downlink EARFCN, dtype: int64"
      ]
     },
     "execution_count": 242,
     "metadata": {},
     "output_type": "execute_result"
    }
   ],
   "source": [
    "data['Downlink EARFCN'].value_counts()"
   ]
  },
  {
   "cell_type": "code",
   "execution_count": 243,
   "id": "53f47c10",
   "metadata": {},
   "outputs": [
    {
     "data": {
      "text/plain": [
       "[array(['Band_1', 'Band_2', 'Band_3'], dtype=object)]"
      ]
     },
     "metadata": {},
     "output_type": "display_data"
    },
    {
     "data": {
      "text/plain": [
       "0.0    213215\n",
       "1.0    124008\n",
       "2.0     94654\n",
       "Name: encoded_Downlink_EARFCN, dtype: int64"
      ]
     },
     "execution_count": 243,
     "metadata": {},
     "output_type": "execute_result"
    }
   ],
   "source": [
    "#encoding column Downlink EARFCN\n",
    "# Instantiate the Ordinal Encoder\n",
    "ordinal_encoder_Downlink_EARFCN = OrdinalEncoder()\n",
    "# Fit it\n",
    "ordinal_encoder_Downlink_EARFCN.fit(data[[\"Downlink EARFCN\"]])\n",
    "# Display the learned categories\n",
    "display(ordinal_encoder_Downlink_EARFCN.categories_)\n",
    "# Transforming categories into ordered numbers\n",
    "data[\"encoded_Downlink_EARFCN\"] = ordinal_encoder_Downlink_EARFCN.transform(data[[\"Downlink EARFCN\"]])\n",
    "# Showing the transformed classes\n",
    "data[\"encoded_Downlink_EARFCN\"].value_counts()"
   ]
  },
  {
   "cell_type": "code",
   "execution_count": 244,
   "id": "d365d1fc",
   "metadata": {},
   "outputs": [
    {
     "data": {
      "text/plain": [
       "CELL_BW_N100    337223\n",
       "CELL_BW_N50      94654\n",
       "Name: Downlink bandwidth, dtype: int64"
      ]
     },
     "execution_count": 244,
     "metadata": {},
     "output_type": "execute_result"
    }
   ],
   "source": [
    "data['Downlink bandwidth'].value_counts()"
   ]
  },
  {
   "cell_type": "code",
   "execution_count": 245,
   "id": "1d83bc85",
   "metadata": {},
   "outputs": [
    {
     "data": {
      "text/plain": [
       "[array(['CELL_BW_N100', 'CELL_BW_N50'], dtype=object)]"
      ]
     },
     "metadata": {},
     "output_type": "display_data"
    },
    {
     "data": {
      "text/plain": [
       "0.0    337223\n",
       "1.0     94654\n",
       "Name: encoded_Downlink_bandwidth, dtype: int64"
      ]
     },
     "execution_count": 245,
     "metadata": {},
     "output_type": "execute_result"
    }
   ],
   "source": [
    "#encoding column Downlink bandwidth\n",
    "# Instantiate the Ordinal Encoder\n",
    "ordinal_encoder_Downlink_bandwidth = OrdinalEncoder()\n",
    "# Fit it\n",
    "ordinal_encoder_Downlink_bandwidth.fit(data[[\"Downlink bandwidth\"]])\n",
    "# Display the learned categories\n",
    "display(ordinal_encoder_Downlink_bandwidth.categories_)\n",
    "# Transforming categories into ordered numbers\n",
    "data[\"encoded_Downlink_bandwidth\"] = ordinal_encoder_Downlink_bandwidth.transform(data[[\"Downlink bandwidth\"]])\n",
    "# Showing the transformed classes\n",
    "data[\"encoded_Downlink_bandwidth\"].value_counts()"
   ]
  },
  {
   "cell_type": "code",
   "execution_count": 246,
   "id": "c3ef6a77",
   "metadata": {},
   "outputs": [
    {
     "data": {
      "text/plain": [
       "2T2R    252808\n",
       "4T4R    176012\n",
       "2T4R      2712\n",
       "1T1R       345\n",
       "Name: LTECell Tx and Rx Mode, dtype: int64"
      ]
     },
     "execution_count": 246,
     "metadata": {},
     "output_type": "execute_result"
    }
   ],
   "source": [
    "data['LTECell Tx and Rx Mode'].value_counts()\n"
   ]
  },
  {
   "cell_type": "code",
   "execution_count": 247,
   "id": "89d6ceca",
   "metadata": {},
   "outputs": [
    {
     "data": {
      "text/plain": [
       "[array(['1T1R', '2T2R', '2T4R', '4T4R'], dtype=object)]"
      ]
     },
     "metadata": {},
     "output_type": "display_data"
    },
    {
     "data": {
      "text/plain": [
       "1.0    252808\n",
       "3.0    176012\n",
       "2.0      2712\n",
       "0.0       345\n",
       "Name: encoded_LTECell_Tx_and_Rx_Mode, dtype: int64"
      ]
     },
     "execution_count": 247,
     "metadata": {},
     "output_type": "execute_result"
    }
   ],
   "source": [
    "#encoding column Downlink bandwidth\n",
    "# Instantiate the Ordinal Encoder\n",
    "ordinal_encoder_LTECell_Tx_and_Rx_Mode = OrdinalEncoder()\n",
    "# Fit it\n",
    "ordinal_encoder_LTECell_Tx_and_Rx_Mode.fit(data[[\"LTECell Tx and Rx Mode\"]])\n",
    "# Display the learned categories\n",
    "display(ordinal_encoder_LTECell_Tx_and_Rx_Mode.categories_)\n",
    "# Transforming categories into ordered numbers\n",
    "data[\"encoded_LTECell_Tx_and_Rx_Mode\"] = ordinal_encoder_LTECell_Tx_and_Rx_Mode.transform(data[[\"LTECell Tx and Rx Mode\"]])\n",
    "# Showing the transformed classes\n",
    "data[\"encoded_LTECell_Tx_and_Rx_Mode\"].value_counts()"
   ]
  },
  {
   "cell_type": "code",
   "execution_count": 248,
   "id": "bc62868a",
   "metadata": {},
   "outputs": [
    {
     "data": {
      "text/plain": [
       "Date                               datetime64[ns]\n",
       "eNodeB identity                             int64\n",
       "Cell ID                                     int64\n",
       "Cell FDD TDD Indication                    object\n",
       "Downlink EARFCN                            object\n",
       "Downlink bandwidth                         object\n",
       "LTECell Tx and Rx Mode                     object\n",
       "Trafic LTE                                 object\n",
       "L.Traffic.ActiveUser.Avg                   object\n",
       "L.Traffic.User.Avg                         object\n",
       "DL throughput_GRP                          object\n",
       "DL PRB Usage(%)                            object\n",
       "Trafic LTE.float                          float64\n",
       "L.Traffic.ActiveUser.Avg.float            float64\n",
       "L.Traffic.User.Avg.float                  float64\n",
       "DL throughput_GRP.float                   float64\n",
       "DL PRB Usage.float                        float64\n",
       "encoded_Cell_FDD_TDD_Indication           float64\n",
       "encoded_Downlink_EARFCN                   float64\n",
       "encoded_Downlink_bandwidth                float64\n",
       "encoded_LTECell_Tx_and_Rx_Mode            float64\n",
       "dtype: object"
      ]
     },
     "execution_count": 248,
     "metadata": {},
     "output_type": "execute_result"
    }
   ],
   "source": [
    "data.dtypes"
   ]
  },
  {
   "cell_type": "markdown",
   "id": "05141e7a",
   "metadata": {},
   "source": [
    "# Cleaning Data"
   ]
  },
  {
   "cell_type": "code",
   "execution_count": 250,
   "id": "bb43e723",
   "metadata": {},
   "outputs": [],
   "source": [
    "#dropping columns\n",
    "data.drop(columns=['Cell FDD TDD Indication','Downlink EARFCN','Downlink bandwidth','LTECell Tx and Rx Mode','Trafic LTE','L.Traffic.ActiveUser.Avg','L.Traffic.User.Avg','DL throughput_GRP','DL PRB Usage(%)'], inplace=True)"
   ]
  },
  {
   "cell_type": "code",
   "execution_count": 251,
   "id": "51cd73b9",
   "metadata": {},
   "outputs": [
    {
     "data": {
      "text/plain": [
       "Date                               datetime64[ns]\n",
       "eNodeB identity                             int64\n",
       "Cell ID                                     int64\n",
       "Trafic LTE.float                          float64\n",
       "L.Traffic.ActiveUser.Avg.float            float64\n",
       "L.Traffic.User.Avg.float                  float64\n",
       "DL throughput_GRP.float                   float64\n",
       "DL PRB Usage.float                        float64\n",
       "encoded_Cell_FDD_TDD_Indication           float64\n",
       "encoded_Downlink_EARFCN                   float64\n",
       "encoded_Downlink_bandwidth                float64\n",
       "encoded_LTECell_Tx_and_Rx_Mode            float64\n",
       "dtype: object"
      ]
     },
     "execution_count": 251,
     "metadata": {},
     "output_type": "execute_result"
    }
   ],
   "source": [
    "data.dtypes"
   ]
  }
 ],
 "metadata": {
  "kernelspec": {
   "display_name": "Python 3 (ipykernel)",
   "language": "python",
   "name": "python3"
  },
  "language_info": {
   "codemirror_mode": {
    "name": "ipython",
    "version": 3
   },
   "file_extension": ".py",
   "mimetype": "text/x-python",
   "name": "python",
   "nbconvert_exporter": "python",
   "pygments_lexer": "ipython3",
   "version": "3.10.6"
  },
  "toc": {
   "base_numbering": 1,
   "nav_menu": {},
   "number_sections": true,
   "sideBar": true,
   "skip_h1_title": false,
   "title_cell": "Table of Contents",
   "title_sidebar": "Contents",
   "toc_cell": false,
   "toc_position": {},
   "toc_section_display": true,
   "toc_window_display": false
  }
 },
 "nbformat": 4,
 "nbformat_minor": 5
}
