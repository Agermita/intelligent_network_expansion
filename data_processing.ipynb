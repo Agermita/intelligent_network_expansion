{
 "cells": [
  {
   "cell_type": "code",
   "execution_count": 1,
   "id": "7e195012",
   "metadata": {},
   "outputs": [],
   "source": [
    "%load_ext autoreload\n",
    "%autoreload 2"
   ]
  },
  {
   "cell_type": "code",
   "execution_count": 32,
   "id": "9feb957b",
   "metadata": {},
   "outputs": [],
   "source": [
    "#usefull imports\n",
    "import numpy as np\n",
    "import pandas as pd\n",
    "import os\n",
    "import matplotlib"
   ]
  },
  {
   "cell_type": "code",
   "execution_count": 61,
   "id": "35473752",
   "metadata": {},
   "outputs": [
    {
     "data": {
      "text/plain": [
       "'/home/maria/code/MariaRJ2023/intelligent-network-expansion/raw_data'"
      ]
     },
     "execution_count": 61,
     "metadata": {},
     "output_type": "execute_result"
    }
   ],
   "source": [
    "#getting path\n",
    "os.getcwd()\n",
    "csv_path = os.path.join(os.getcwd(),  'raw_data')\n",
    "csv_path\n"
   ]
  },
  {
   "cell_type": "code",
   "execution_count": 20,
   "id": "7602af3f",
   "metadata": {},
   "outputs": [
    {
     "data": {
      "text/html": [
       "<div>\n",
       "<style scoped>\n",
       "    .dataframe tbody tr th:only-of-type {\n",
       "        vertical-align: middle;\n",
       "    }\n",
       "\n",
       "    .dataframe tbody tr th {\n",
       "        vertical-align: top;\n",
       "    }\n",
       "\n",
       "    .dataframe thead th {\n",
       "        text-align: right;\n",
       "    }\n",
       "</style>\n",
       "<table border=\"1\" class=\"dataframe\">\n",
       "  <thead>\n",
       "    <tr style=\"text-align: right;\">\n",
       "      <th></th>\n",
       "      <th>Date</th>\n",
       "      <th>eNodeB identity</th>\n",
       "      <th>Cell ID</th>\n",
       "      <th>Cell FDD TDD Indication</th>\n",
       "      <th>Downlink EARFCN</th>\n",
       "      <th>Downlink bandwidth</th>\n",
       "      <th>LTECell Tx and Rx Mode</th>\n",
       "      <th>Trafic LTE</th>\n",
       "      <th>L.Traffic.ActiveUser.Avg</th>\n",
       "      <th>L.Traffic.User.Avg</th>\n",
       "      <th>DL throughput_GRP</th>\n",
       "      <th>DL PRB Usage(%)</th>\n",
       "    </tr>\n",
       "  </thead>\n",
       "  <tbody>\n",
       "    <tr>\n",
       "      <th>0</th>\n",
       "      <td>2022-08-17</td>\n",
       "      <td>146007</td>\n",
       "      <td>1</td>\n",
       "      <td>CELL_FDD</td>\n",
       "      <td>Band_1</td>\n",
       "      <td>CELL_BW_N100</td>\n",
       "      <td>2T2R</td>\n",
       "      <td>62,2448</td>\n",
       "      <td>2,0625</td>\n",
       "      <td>42,7677</td>\n",
       "      <td>24,5815</td>\n",
       "      <td>14,6073</td>\n",
       "    </tr>\n",
       "    <tr>\n",
       "      <th>1</th>\n",
       "      <td>2022-08-17</td>\n",
       "      <td>146007</td>\n",
       "      <td>2</td>\n",
       "      <td>CELL_FDD</td>\n",
       "      <td>Band_1</td>\n",
       "      <td>CELL_BW_N100</td>\n",
       "      <td>2T2R</td>\n",
       "      <td>79,4215</td>\n",
       "      <td>2,6462</td>\n",
       "      <td>41,2266</td>\n",
       "      <td>13,618</td>\n",
       "      <td>28,7316</td>\n",
       "    </tr>\n",
       "    <tr>\n",
       "      <th>2</th>\n",
       "      <td>2022-08-17</td>\n",
       "      <td>146007</td>\n",
       "      <td>3</td>\n",
       "      <td>CELL_FDD</td>\n",
       "      <td>Band_1</td>\n",
       "      <td>CELL_BW_N100</td>\n",
       "      <td>2T2R</td>\n",
       "      <td>75,3552</td>\n",
       "      <td>2,0158</td>\n",
       "      <td>32,4667</td>\n",
       "      <td>28,3735</td>\n",
       "      <td>16,2728</td>\n",
       "    </tr>\n",
       "    <tr>\n",
       "      <th>3</th>\n",
       "      <td>2022-08-17</td>\n",
       "      <td>146603</td>\n",
       "      <td>1</td>\n",
       "      <td>CELL_FDD</td>\n",
       "      <td>Band_1</td>\n",
       "      <td>CELL_BW_N100</td>\n",
       "      <td>2T2R</td>\n",
       "      <td>135,2522</td>\n",
       "      <td>3,5427</td>\n",
       "      <td>39,0666</td>\n",
       "      <td>12,6066</td>\n",
       "      <td>37,4124</td>\n",
       "    </tr>\n",
       "    <tr>\n",
       "      <th>4</th>\n",
       "      <td>2022-08-17</td>\n",
       "      <td>146603</td>\n",
       "      <td>2</td>\n",
       "      <td>CELL_FDD</td>\n",
       "      <td>Band_1</td>\n",
       "      <td>CELL_BW_N100</td>\n",
       "      <td>2T2R</td>\n",
       "      <td>169,5315</td>\n",
       "      <td>11,3887</td>\n",
       "      <td>84,4495</td>\n",
       "      <td>3,3873</td>\n",
       "      <td>72,5022</td>\n",
       "    </tr>\n",
       "  </tbody>\n",
       "</table>\n",
       "</div>"
      ],
      "text/plain": [
       "         Date  eNodeB identity  Cell ID Cell FDD TDD Indication  \\\n",
       "0  2022-08-17           146007        1                CELL_FDD   \n",
       "1  2022-08-17           146007        2                CELL_FDD   \n",
       "2  2022-08-17           146007        3                CELL_FDD   \n",
       "3  2022-08-17           146603        1                CELL_FDD   \n",
       "4  2022-08-17           146603        2                CELL_FDD   \n",
       "\n",
       "  Downlink EARFCN Downlink bandwidth LTECell Tx and Rx Mode Trafic LTE  \\\n",
       "0          Band_1       CELL_BW_N100                   2T2R    62,2448   \n",
       "1          Band_1       CELL_BW_N100                   2T2R    79,4215   \n",
       "2          Band_1       CELL_BW_N100                   2T2R    75,3552   \n",
       "3          Band_1       CELL_BW_N100                   2T2R   135,2522   \n",
       "4          Band_1       CELL_BW_N100                   2T2R   169,5315   \n",
       "\n",
       "  L.Traffic.ActiveUser.Avg L.Traffic.User.Avg DL throughput_GRP  \\\n",
       "0                   2,0625            42,7677           24,5815   \n",
       "1                   2,6462            41,2266            13,618   \n",
       "2                   2,0158            32,4667           28,3735   \n",
       "3                   3,5427            39,0666           12,6066   \n",
       "4                  11,3887            84,4495            3,3873   \n",
       "\n",
       "  DL PRB Usage(%)  \n",
       "0         14,6073  \n",
       "1         28,7316  \n",
       "2         16,2728  \n",
       "3         37,4124  \n",
       "4         72,5022  "
      ]
     },
     "execution_count": 20,
     "metadata": {},
     "output_type": "execute_result"
    }
   ],
   "source": [
    "pd.read_csv(os.path.join(csv_path, 'LTE KPIs Part 1.csv'),sep=\";\").head()"
   ]
  },
  {
   "cell_type": "code",
   "execution_count": 133,
   "id": "78002487",
   "metadata": {},
   "outputs": [],
   "source": [
    "data=pd.read_csv(os.path.join(csv_path, 'LTE KPIs Part 1.csv'),sep=\";\")"
   ]
  },
  {
   "cell_type": "code",
   "execution_count": 65,
   "id": "1d44e0ad",
   "metadata": {},
   "outputs": [],
   "source": [
    "data_keys=data.keys()#or data.columns"
   ]
  },
  {
   "cell_type": "code",
   "execution_count": 78,
   "id": "404900c3",
   "metadata": {},
   "outputs": [
    {
     "data": {
      "text/plain": [
       "int"
      ]
     },
     "execution_count": 78,
     "metadata": {},
     "output_type": "execute_result"
    }
   ],
   "source": [
    "data_shape=data.shape\n",
    "nb_ligne=data_shape[0]\n",
    "type(data_shape[0])"
   ]
  },
  {
   "cell_type": "code",
   "execution_count": 40,
   "id": "c0683060",
   "metadata": {},
   "outputs": [
    {
     "data": {
      "text/plain": [
       "str"
      ]
     },
     "execution_count": 40,
     "metadata": {},
     "output_type": "execute_result"
    }
   ],
   "source": [
    "type(data['Date'][2])"
   ]
  },
  {
   "cell_type": "code",
   "execution_count": 62,
   "id": "0b9ce1bf",
   "metadata": {},
   "outputs": [],
   "source": [
    "#Transporm date from str to date format\n",
    "data['Date'] = pd.to_datetime(data['Date'], format='%Y-%m-%d')"
   ]
  },
  {
   "cell_type": "code",
   "execution_count": 64,
   "id": "cbeb86ae",
   "metadata": {},
   "outputs": [
    {
     "data": {
      "text/plain": [
       "pandas._libs.tslibs.timestamps.Timestamp"
      ]
     },
     "execution_count": 64,
     "metadata": {},
     "output_type": "execute_result"
    }
   ],
   "source": [
    "type(data['Date'][2])"
   ]
  },
  {
   "cell_type": "code",
   "execution_count": 44,
   "id": "97fbfc4a",
   "metadata": {},
   "outputs": [
    {
     "data": {
      "text/html": [
       "<div>\n",
       "<style scoped>\n",
       "    .dataframe tbody tr th:only-of-type {\n",
       "        vertical-align: middle;\n",
       "    }\n",
       "\n",
       "    .dataframe tbody tr th {\n",
       "        vertical-align: top;\n",
       "    }\n",
       "\n",
       "    .dataframe thead th {\n",
       "        text-align: right;\n",
       "    }\n",
       "</style>\n",
       "<table border=\"1\" class=\"dataframe\">\n",
       "  <thead>\n",
       "    <tr style=\"text-align: right;\">\n",
       "      <th></th>\n",
       "      <th>Date</th>\n",
       "      <th>eNodeB identity</th>\n",
       "      <th>Cell ID</th>\n",
       "      <th>Cell FDD TDD Indication</th>\n",
       "      <th>Downlink EARFCN</th>\n",
       "      <th>Downlink bandwidth</th>\n",
       "      <th>LTECell Tx and Rx Mode</th>\n",
       "      <th>Trafic LTE</th>\n",
       "      <th>L.Traffic.ActiveUser.Avg</th>\n",
       "      <th>L.Traffic.User.Avg</th>\n",
       "      <th>DL throughput_GRP</th>\n",
       "      <th>DL PRB Usage(%)</th>\n",
       "    </tr>\n",
       "  </thead>\n",
       "  <tbody>\n",
       "    <tr>\n",
       "      <th>0</th>\n",
       "      <td>2022-08-17</td>\n",
       "      <td>146007</td>\n",
       "      <td>1</td>\n",
       "      <td>CELL_FDD</td>\n",
       "      <td>Band_1</td>\n",
       "      <td>CELL_BW_N100</td>\n",
       "      <td>2T2R</td>\n",
       "      <td>62,2448</td>\n",
       "      <td>2,0625</td>\n",
       "      <td>42,7677</td>\n",
       "      <td>24,5815</td>\n",
       "      <td>14,6073</td>\n",
       "    </tr>\n",
       "    <tr>\n",
       "      <th>1</th>\n",
       "      <td>2022-08-17</td>\n",
       "      <td>146007</td>\n",
       "      <td>2</td>\n",
       "      <td>CELL_FDD</td>\n",
       "      <td>Band_1</td>\n",
       "      <td>CELL_BW_N100</td>\n",
       "      <td>2T2R</td>\n",
       "      <td>79,4215</td>\n",
       "      <td>2,6462</td>\n",
       "      <td>41,2266</td>\n",
       "      <td>13,618</td>\n",
       "      <td>28,7316</td>\n",
       "    </tr>\n",
       "    <tr>\n",
       "      <th>2</th>\n",
       "      <td>2022-08-17</td>\n",
       "      <td>146007</td>\n",
       "      <td>3</td>\n",
       "      <td>CELL_FDD</td>\n",
       "      <td>Band_1</td>\n",
       "      <td>CELL_BW_N100</td>\n",
       "      <td>2T2R</td>\n",
       "      <td>75,3552</td>\n",
       "      <td>2,0158</td>\n",
       "      <td>32,4667</td>\n",
       "      <td>28,3735</td>\n",
       "      <td>16,2728</td>\n",
       "    </tr>\n",
       "  </tbody>\n",
       "</table>\n",
       "</div>"
      ],
      "text/plain": [
       "        Date  eNodeB identity  Cell ID Cell FDD TDD Indication  \\\n",
       "0 2022-08-17           146007        1                CELL_FDD   \n",
       "1 2022-08-17           146007        2                CELL_FDD   \n",
       "2 2022-08-17           146007        3                CELL_FDD   \n",
       "\n",
       "  Downlink EARFCN Downlink bandwidth LTECell Tx and Rx Mode Trafic LTE  \\\n",
       "0          Band_1       CELL_BW_N100                   2T2R    62,2448   \n",
       "1          Band_1       CELL_BW_N100                   2T2R    79,4215   \n",
       "2          Band_1       CELL_BW_N100                   2T2R    75,3552   \n",
       "\n",
       "  L.Traffic.ActiveUser.Avg L.Traffic.User.Avg DL throughput_GRP  \\\n",
       "0                   2,0625            42,7677           24,5815   \n",
       "1                   2,6462            41,2266            13,618   \n",
       "2                   2,0158            32,4667           28,3735   \n",
       "\n",
       "  DL PRB Usage(%)  \n",
       "0         14,6073  \n",
       "1         28,7316  \n",
       "2         16,2728  "
      ]
     },
     "execution_count": 44,
     "metadata": {},
     "output_type": "execute_result"
    }
   ],
   "source": [
    "data.head(3)"
   ]
  },
  {
   "cell_type": "code",
   "execution_count": 66,
   "id": "5713574d",
   "metadata": {},
   "outputs": [
    {
     "name": "stdout",
     "output_type": "stream",
     "text": [
      "Date: <class 'pandas._libs.tslibs.timestamps.Timestamp'>\n",
      "eNodeB identity: <class 'numpy.int64'>\n",
      "Cell ID: <class 'numpy.int64'>\n",
      "Cell FDD TDD Indication: <class 'str'>\n",
      "Downlink EARFCN: <class 'str'>\n",
      "Downlink bandwidth: <class 'str'>\n",
      "LTECell Tx and Rx Mode: <class 'str'>\n",
      "Trafic LTE: <class 'str'>\n",
      "L.Traffic.ActiveUser.Avg: <class 'str'>\n",
      "L.Traffic.User.Avg: <class 'str'>\n",
      "DL throughput_GRP: <class 'str'>\n",
      "DL PRB Usage(%): <class 'str'>\n"
     ]
    }
   ],
   "source": [
    "#columns type\n",
    "for key in data_keys:\n",
    "    print(f\"{key}: {type(data[key][2])}\")"
   ]
  },
  {
   "cell_type": "code",
   "execution_count": 72,
   "id": "e335141a",
   "metadata": {},
   "outputs": [
    {
     "data": {
      "text/plain": [
       "32.4667"
      ]
     },
     "execution_count": 72,
     "metadata": {},
     "output_type": "execute_result"
    }
   ],
   "source": [
    "float(data['L.Traffic.User.Avg'][2].replace(',','.'))"
   ]
  },
  {
   "cell_type": "code",
   "execution_count": 126,
   "id": "9849f778",
   "metadata": {},
   "outputs": [],
   "source": [
    "#L.Traffic.User.Avg\n",
    "#replacing string values by float values\n",
    "def replace_str_to_float(column_name):\n",
    "    new_column=[]\n",
    "    new_val=0\n",
    "    for n in range(nb_ligne):\n",
    "        new_val=data[column_name][n].replace(',','.')\n",
    "        new_val=new_val.replace('/','')\n",
    "        new_column.append(float(new_val))\n",
    "    return new_column\n",
    "\n",
    "data['Trafic LTE.float']=replace_str_to_float('Trafic LTE')\n",
    "data['L.Traffic.ActiveUser.Avg.float']=replace_str_to_float('L.Traffic.ActiveUser.Avg')\n",
    "data['L.Traffic.User.Avg.float']=replace_str_to_float('L.Traffic.User.Avg')\n",
    "data['DL throughput_GRP.float']=replace_str_to_float('DL throughput_GRP')\n",
    "data['DL PRB Usage.float']=replace_str_to_float('DL PRB Usage(%)')"
   ]
  },
  {
   "cell_type": "code",
   "execution_count": 129,
   "id": "36d40454",
   "metadata": {},
   "outputs": [
    {
     "ename": "NameError",
     "evalue": "name 'nill' is not defined",
     "output_type": "error",
     "traceback": [
      "\u001b[0;31m---------------------------------------------------------------------------\u001b[0m",
      "\u001b[0;31mNameError\u001b[0m                                 Traceback (most recent call last)",
      "Cell \u001b[0;32mIn [129], line 1\u001b[0m\n\u001b[0;32m----> 1\u001b[0m data\u001b[38;5;241m.\u001b[39mloc[data[\u001b[38;5;124m'\u001b[39m\u001b[38;5;124mDL throughput_GRP\u001b[39m\u001b[38;5;124m'\u001b[39m] \u001b[38;5;241m==\u001b[39m \u001b[43mnill\u001b[49m]\n",
      "\u001b[0;31mNameError\u001b[0m: name 'nill' is not defined"
     ]
    }
   ],
   "source": [
    "data.loc[data['DL throughput_GRP'] == nill]"
   ]
  },
  {
   "cell_type": "code",
   "execution_count": 100,
   "id": "8a208020",
   "metadata": {},
   "outputs": [
    {
     "data": {
      "text/plain": [
       "Index(['Date', 'eNodeB identity', 'Cell ID', 'Cell FDD TDD Indication',\n",
       "       'Downlink EARFCN', 'Downlink bandwidth', 'LTECell Tx and Rx Mode',\n",
       "       'Trafic LTE', 'L.Traffic.ActiveUser.Avg', 'L.Traffic.User.Avg',\n",
       "       'DL throughput_GRP', 'DL PRB Usage(%)', 'L.Traffic.User.Avg.float'],\n",
       "      dtype='object')"
      ]
     },
     "execution_count": 100,
     "metadata": {},
     "output_type": "execute_result"
    }
   ],
   "source": [
    "data.keys()"
   ]
  },
  {
   "cell_type": "code",
   "execution_count": 127,
   "id": "e9c7ab36",
   "metadata": {},
   "outputs": [
    {
     "data": {
      "text/plain": [
       "Date                               object\n",
       "eNodeB identity                     int64\n",
       "Cell ID                             int64\n",
       "Cell FDD TDD Indication            object\n",
       "Downlink EARFCN                    object\n",
       "Downlink bandwidth                 object\n",
       "LTECell Tx and Rx Mode             object\n",
       "Trafic LTE                         object\n",
       "L.Traffic.ActiveUser.Avg           object\n",
       "L.Traffic.User.Avg                 object\n",
       "DL throughput_GRP                  object\n",
       "DL PRB Usage(%)                    object\n",
       "L.Traffic.User.Avg.float          float64\n",
       "Trafic LTE.float                  float64\n",
       "L.Traffic.ActiveUser.Avg.float    float64\n",
       "DL throughput_GRP.float           float64\n",
       "DL PRB Usage.float                float64\n",
       "dtype: object"
      ]
     },
     "execution_count": 127,
     "metadata": {},
     "output_type": "execute_result"
    }
   ],
   "source": [
    "data.dtypes"
   ]
  },
  {
   "cell_type": "code",
   "execution_count": 138,
   "id": "3bcee08d",
   "metadata": {},
   "outputs": [
    {
     "data": {
      "text/plain": [
       "CELL_FDD    431877\n",
       "Name: Cell FDD TDD Indication, dtype: int64"
      ]
     },
     "execution_count": 138,
     "metadata": {},
     "output_type": "execute_result"
    }
   ],
   "source": [
    "data['Cell FDD TDD Indication'].value_counts()"
   ]
  },
  {
   "cell_type": "code",
   "execution_count": 139,
   "id": "2b7e21c3",
   "metadata": {},
   "outputs": [
    {
     "data": {
      "text/plain": [
       "Band_1    213215\n",
       "Band_2    124008\n",
       "Band_3     94654\n",
       "Name: Downlink EARFCN, dtype: int64"
      ]
     },
     "execution_count": 139,
     "metadata": {},
     "output_type": "execute_result"
    }
   ],
   "source": [
    "data['Downlink EARFCN'].value_counts()"
   ]
  },
  {
   "cell_type": "code",
   "execution_count": 140,
   "id": "4af1f52f",
   "metadata": {},
   "outputs": [
    {
     "data": {
      "text/plain": [
       "CELL_BW_N100    337223\n",
       "CELL_BW_N50      94654\n",
       "Name: Downlink bandwidth, dtype: int64"
      ]
     },
     "execution_count": 140,
     "metadata": {},
     "output_type": "execute_result"
    }
   ],
   "source": [
    "data['Downlink bandwidth'].value_counts()"
   ]
  },
  {
   "cell_type": "code",
   "execution_count": null,
   "id": "94f8cf04",
   "metadata": {},
   "outputs": [],
   "source": []
  }
 ],
 "metadata": {
  "kernelspec": {
   "display_name": "Python 3 (ipykernel)",
   "language": "python",
   "name": "python3"
  },
  "language_info": {
   "codemirror_mode": {
    "name": "ipython",
    "version": 3
   },
   "file_extension": ".py",
   "mimetype": "text/x-python",
   "name": "python",
   "nbconvert_exporter": "python",
   "pygments_lexer": "ipython3",
   "version": "3.10.6"
  },
  "toc": {
   "base_numbering": 1,
   "nav_menu": {},
   "number_sections": true,
   "sideBar": true,
   "skip_h1_title": false,
   "title_cell": "Table of Contents",
   "title_sidebar": "Contents",
   "toc_cell": false,
   "toc_position": {},
   "toc_section_display": true,
   "toc_window_display": false
  }
 },
 "nbformat": 4,
 "nbformat_minor": 5
}
