{
 "cells": [
  {
   "cell_type": "code",
   "execution_count": 1,
   "metadata": {},
   "outputs": [
    {
     "name": "stderr",
     "output_type": "stream",
     "text": [
      "2023-08-05 15:32:54.962743: I tensorflow/core/util/port.cc:110] oneDNN custom operations are on. You may see slightly different numerical results due to floating-point round-off errors from different computation orders. To turn them off, set the environment variable `TF_ENABLE_ONEDNN_OPTS=0`.\n",
      "2023-08-05 15:32:54.982649: I tensorflow/tsl/cuda/cudart_stub.cc:28] Could not find cuda drivers on your machine, GPU will not be used.\n",
      "2023-08-05 15:32:55.305074: I tensorflow/tsl/cuda/cudart_stub.cc:28] Could not find cuda drivers on your machine, GPU will not be used.\n",
      "2023-08-05 15:32:55.309265: I tensorflow/core/platform/cpu_feature_guard.cc:182] This TensorFlow binary is optimized to use available CPU instructions in performance-critical operations.\n",
      "To enable the following instructions: AVX2 AVX512F AVX512_VNNI FMA, in other operations, rebuild TensorFlow with the appropriate compiler flags.\n",
      "2023-08-05 15:32:57.327871: W tensorflow/compiler/tf2tensorrt/utils/py_utils.cc:38] TF-TRT Warning: Could not find TensorRT\n"
     ]
    }
   ],
   "source": [
    "import numpy as np\n",
    "import pandas as pd\n",
    "pd.set_option(\"display.max_columns\", None)\n",
    "\n",
    "# Data Visualiation\n",
    "import matplotlib.pyplot as plt\n",
    "import seaborn as sns\n",
    "\n",
    "# System\n",
    "import os\n",
    "\n",
    "# Deep Learning\n",
    "import tensorflow\n",
    "from typing import Dict, List, Tuple, Sequence\n",
    "\n",
    "from tensorflow.keras import models\n",
    "from tensorflow.keras import layers\n",
    "from tensorflow.keras import optimizers, metrics\n",
    "from tensorflow.keras.regularizers import L1L2\n",
    "from tensorflow.keras.layers.experimental.preprocessing import Normalization\n",
    "from tensorflow.keras.callbacks import EarlyStopping\n",
    "from tensorflow.keras.optimizers.schedules import ExponentialDecay\n",
    "from sklearn.model_selection import train_test_split\n",
    "from tensorflow.keras.optimizers import Adam\n",
    "from tensorflow.keras.layers import SimpleRNN, LSTM, GRU"
   ]
  },
  {
   "cell_type": "code",
   "execution_count": 2,
   "metadata": {},
   "outputs": [],
   "source": [
    "file_path=\"~/code/Agermita/intelligent_network_expansion/raw_data/data.csv\"\n",
    "processed_data = pd.read_csv(file_path, sep=',')"
   ]
  },
  {
   "cell_type": "code",
   "execution_count": 3,
   "metadata": {},
   "outputs": [
    {
     "data": {
      "text/plain": [
       "(2014423, 31)"
      ]
     },
     "execution_count": 3,
     "metadata": {},
     "output_type": "execute_result"
    }
   ],
   "source": [
    "processed_data.shape"
   ]
  },
  {
   "cell_type": "code",
   "execution_count": 4,
   "metadata": {},
   "outputs": [
    {
     "data": {
      "text/html": [
       "<div>\n",
       "<style scoped>\n",
       "    .dataframe tbody tr th:only-of-type {\n",
       "        vertical-align: middle;\n",
       "    }\n",
       "\n",
       "    .dataframe tbody tr th {\n",
       "        vertical-align: top;\n",
       "    }\n",
       "\n",
       "    .dataframe thead th {\n",
       "        text-align: right;\n",
       "    }\n",
       "</style>\n",
       "<table border=\"1\" class=\"dataframe\">\n",
       "  <thead>\n",
       "    <tr style=\"text-align: right;\">\n",
       "      <th></th>\n",
       "      <th>Unnamed: 0</th>\n",
       "      <th>Date</th>\n",
       "      <th>eNodeB identity</th>\n",
       "      <th>Cell ID</th>\n",
       "      <th>Trafic LTE.float</th>\n",
       "      <th>L.Traffic.ActiveUser.Avg.float</th>\n",
       "      <th>L.Traffic.User.Avg.float</th>\n",
       "      <th>DL throughput_GRP.float</th>\n",
       "      <th>DL PRB Usage.float</th>\n",
       "      <th>City_City_1</th>\n",
       "      <th>City_City_3</th>\n",
       "      <th>City_City_4</th>\n",
       "      <th>City_City_5</th>\n",
       "      <th>LTECell Tx and Rx Mode_1T1R</th>\n",
       "      <th>LTECell Tx and Rx Mode_2T2R</th>\n",
       "      <th>LTECell Tx and Rx Mode_2T4R</th>\n",
       "      <th>LTECell Tx and Rx Mode_4T4R</th>\n",
       "      <th>LTECell Tx and Rx Mode_8T8R</th>\n",
       "      <th>Downlink bandwidth_CELL_BW_N100</th>\n",
       "      <th>Downlink bandwidth_CELL_BW_N50</th>\n",
       "      <th>Downlink EARFCN_Band_1</th>\n",
       "      <th>Downlink EARFCN_Band_2</th>\n",
       "      <th>Downlink EARFCN_Band_3</th>\n",
       "      <th>Downlink EARFCN_Band_4</th>\n",
       "      <th>Downlink EARFCN_Band_5</th>\n",
       "      <th>eNodeB_identifier_int</th>\n",
       "      <th>Cell FDD TDD Indication_CELL_FDD</th>\n",
       "      <th>Cell FDD TDD Indication_CELL_TDD</th>\n",
       "      <th>City Type_Rural</th>\n",
       "      <th>City Type_Urbain</th>\n",
       "      <th>City Type_Urbain dense</th>\n",
       "    </tr>\n",
       "  </thead>\n",
       "  <tbody>\n",
       "    <tr>\n",
       "      <th>0</th>\n",
       "      <td>0</td>\n",
       "      <td>2022-08-17</td>\n",
       "      <td>146007</td>\n",
       "      <td>1</td>\n",
       "      <td>62.2448</td>\n",
       "      <td>2.0625</td>\n",
       "      <td>42.7677</td>\n",
       "      <td>24.5815</td>\n",
       "      <td>14.6073</td>\n",
       "      <td>0.0</td>\n",
       "      <td>1.0</td>\n",
       "      <td>0.0</td>\n",
       "      <td>0.0</td>\n",
       "      <td>0.0</td>\n",
       "      <td>1.0</td>\n",
       "      <td>0.0</td>\n",
       "      <td>0.0</td>\n",
       "      <td>0.0</td>\n",
       "      <td>1.0</td>\n",
       "      <td>0.0</td>\n",
       "      <td>1.0</td>\n",
       "      <td>0.0</td>\n",
       "      <td>0.0</td>\n",
       "      <td>0.0</td>\n",
       "      <td>0.0</td>\n",
       "      <td>37377793</td>\n",
       "      <td>1.0</td>\n",
       "      <td>0.0</td>\n",
       "      <td>0.0</td>\n",
       "      <td>1.0</td>\n",
       "      <td>0.0</td>\n",
       "    </tr>\n",
       "    <tr>\n",
       "      <th>1</th>\n",
       "      <td>1</td>\n",
       "      <td>2022-08-17</td>\n",
       "      <td>146007</td>\n",
       "      <td>2</td>\n",
       "      <td>79.4215</td>\n",
       "      <td>2.6462</td>\n",
       "      <td>41.2266</td>\n",
       "      <td>13.6180</td>\n",
       "      <td>28.7316</td>\n",
       "      <td>0.0</td>\n",
       "      <td>1.0</td>\n",
       "      <td>0.0</td>\n",
       "      <td>0.0</td>\n",
       "      <td>0.0</td>\n",
       "      <td>1.0</td>\n",
       "      <td>0.0</td>\n",
       "      <td>0.0</td>\n",
       "      <td>0.0</td>\n",
       "      <td>1.0</td>\n",
       "      <td>0.0</td>\n",
       "      <td>1.0</td>\n",
       "      <td>0.0</td>\n",
       "      <td>0.0</td>\n",
       "      <td>0.0</td>\n",
       "      <td>0.0</td>\n",
       "      <td>37377794</td>\n",
       "      <td>1.0</td>\n",
       "      <td>0.0</td>\n",
       "      <td>0.0</td>\n",
       "      <td>1.0</td>\n",
       "      <td>0.0</td>\n",
       "    </tr>\n",
       "    <tr>\n",
       "      <th>2</th>\n",
       "      <td>2</td>\n",
       "      <td>2022-08-17</td>\n",
       "      <td>146007</td>\n",
       "      <td>3</td>\n",
       "      <td>75.3552</td>\n",
       "      <td>2.0158</td>\n",
       "      <td>32.4667</td>\n",
       "      <td>28.3735</td>\n",
       "      <td>16.2728</td>\n",
       "      <td>0.0</td>\n",
       "      <td>1.0</td>\n",
       "      <td>0.0</td>\n",
       "      <td>0.0</td>\n",
       "      <td>0.0</td>\n",
       "      <td>1.0</td>\n",
       "      <td>0.0</td>\n",
       "      <td>0.0</td>\n",
       "      <td>0.0</td>\n",
       "      <td>1.0</td>\n",
       "      <td>0.0</td>\n",
       "      <td>1.0</td>\n",
       "      <td>0.0</td>\n",
       "      <td>0.0</td>\n",
       "      <td>0.0</td>\n",
       "      <td>0.0</td>\n",
       "      <td>37377795</td>\n",
       "      <td>1.0</td>\n",
       "      <td>0.0</td>\n",
       "      <td>0.0</td>\n",
       "      <td>1.0</td>\n",
       "      <td>0.0</td>\n",
       "    </tr>\n",
       "  </tbody>\n",
       "</table>\n",
       "</div>"
      ],
      "text/plain": [
       "   Unnamed: 0        Date  eNodeB identity  Cell ID  Trafic LTE.float  \\\n",
       "0           0  2022-08-17           146007        1           62.2448   \n",
       "1           1  2022-08-17           146007        2           79.4215   \n",
       "2           2  2022-08-17           146007        3           75.3552   \n",
       "\n",
       "   L.Traffic.ActiveUser.Avg.float  L.Traffic.User.Avg.float  \\\n",
       "0                          2.0625                   42.7677   \n",
       "1                          2.6462                   41.2266   \n",
       "2                          2.0158                   32.4667   \n",
       "\n",
       "   DL throughput_GRP.float  DL PRB Usage.float  City_City_1  City_City_3  \\\n",
       "0                  24.5815             14.6073          0.0          1.0   \n",
       "1                  13.6180             28.7316          0.0          1.0   \n",
       "2                  28.3735             16.2728          0.0          1.0   \n",
       "\n",
       "   City_City_4  City_City_5  LTECell Tx and Rx Mode_1T1R  \\\n",
       "0          0.0          0.0                          0.0   \n",
       "1          0.0          0.0                          0.0   \n",
       "2          0.0          0.0                          0.0   \n",
       "\n",
       "   LTECell Tx and Rx Mode_2T2R  LTECell Tx and Rx Mode_2T4R  \\\n",
       "0                          1.0                          0.0   \n",
       "1                          1.0                          0.0   \n",
       "2                          1.0                          0.0   \n",
       "\n",
       "   LTECell Tx and Rx Mode_4T4R  LTECell Tx and Rx Mode_8T8R  \\\n",
       "0                          0.0                          0.0   \n",
       "1                          0.0                          0.0   \n",
       "2                          0.0                          0.0   \n",
       "\n",
       "   Downlink bandwidth_CELL_BW_N100  Downlink bandwidth_CELL_BW_N50  \\\n",
       "0                              1.0                             0.0   \n",
       "1                              1.0                             0.0   \n",
       "2                              1.0                             0.0   \n",
       "\n",
       "   Downlink EARFCN_Band_1  Downlink EARFCN_Band_2  Downlink EARFCN_Band_3  \\\n",
       "0                     1.0                     0.0                     0.0   \n",
       "1                     1.0                     0.0                     0.0   \n",
       "2                     1.0                     0.0                     0.0   \n",
       "\n",
       "   Downlink EARFCN_Band_4  Downlink EARFCN_Band_5  eNodeB_identifier_int  \\\n",
       "0                     0.0                     0.0               37377793   \n",
       "1                     0.0                     0.0               37377794   \n",
       "2                     0.0                     0.0               37377795   \n",
       "\n",
       "   Cell FDD TDD Indication_CELL_FDD  Cell FDD TDD Indication_CELL_TDD  \\\n",
       "0                               1.0                               0.0   \n",
       "1                               1.0                               0.0   \n",
       "2                               1.0                               0.0   \n",
       "\n",
       "   City Type_Rural  City Type_Urbain  City Type_Urbain dense  \n",
       "0              0.0               1.0                     0.0  \n",
       "1              0.0               1.0                     0.0  \n",
       "2              0.0               1.0                     0.0  "
      ]
     },
     "execution_count": 4,
     "metadata": {},
     "output_type": "execute_result"
    }
   ],
   "source": [
    "processed_data.head(3)"
   ]
  },
  {
   "cell_type": "code",
   "execution_count": 5,
   "metadata": {},
   "outputs": [],
   "source": [
    "processed_data['Date'] = pd.to_datetime(processed_data['Date'], format='%Y-%m-%d')\n",
    "#processed_data.dtypes"
   ]
  },
  {
   "cell_type": "code",
   "execution_count": 6,
   "metadata": {},
   "outputs": [],
   "source": [
    "processed_data.drop('Unnamed: 0', axis=1, inplace=True)\n",
    "#processed_data.drop('Unnamed: 0.1', axis=1, inplace=True)"
   ]
  },
  {
   "cell_type": "code",
   "execution_count": 7,
   "metadata": {},
   "outputs": [],
   "source": [
    "def replace_missing_dates(df, start_date, end_date) -> pd.DataFrame :\n",
    "    missing_date=pd.date_range(start = start_date, end = end_date ).difference(df[\"Date\"])\n",
    "    date={}\n",
    "    df_new=df.copy()\n",
    "    if(len(missing_date)>0):\n",
    "        for i in range(0,len(missing_date)):\n",
    "            data={'Date': missing_date[i], \n",
    "                    'eNodeB identity': df['eNodeB identity'][0], \n",
    "                    'Cell ID' : df['Cell ID'][0],\n",
    "                    'Trafic LTE.float' :float(0),\n",
    "                    'L.Traffic.ActiveUser.Avg.float':float(0), \n",
    "                    'L.Traffic.User.Avg.float' :float(0),\n",
    "                    'DL throughput_GRP.float':float(0), \n",
    "                    'DL PRB Usage.float':float(0), \n",
    "                    'City_City_1': df['City_City_1'][0],\n",
    "                    'City_City_3': df['City_City_3'][0], \n",
    "                    'City_City_4': df['City_City_4'][0], \n",
    "                    'City_City_5': df['City_City_5'][0],\n",
    "                    'LTECell Tx and Rx Mode_1T1R': df['LTECell Tx and Rx Mode_1T1R'][0],\n",
    "                    'LTECell Tx and Rx Mode_2T2R': df['LTECell Tx and Rx Mode_2T2R'][0],\n",
    "                    'LTECell Tx and Rx Mode_2T4R': df['LTECell Tx and Rx Mode_2T4R'][0],\n",
    "                    'LTECell Tx and Rx Mode_4T4R': df['LTECell Tx and Rx Mode_4T4R'][0],\n",
    "                    'LTECell Tx and Rx Mode_8T8R': df['LTECell Tx and Rx Mode_8T8R'][0], \n",
    "                    'Downlink bandwidth_CELL_BW_N100': df['Downlink bandwidth_CELL_BW_N100'][0],\n",
    "                    'Downlink bandwidth_CELL_BW_N50': df['Downlink bandwidth_CELL_BW_N50'][0], \n",
    "                    'Downlink EARFCN_Band_1': df['Downlink EARFCN_Band_1'][0],\n",
    "                    'Downlink EARFCN_Band_2': df['Downlink EARFCN_Band_2'][0],\n",
    "                    'Downlink EARFCN_Band_3': df['Downlink EARFCN_Band_3'][0],\n",
    "                    'Downlink EARFCN_Band_4': df['Downlink EARFCN_Band_4'][0],\n",
    "                    'Downlink EARFCN_Band_5': df['Downlink EARFCN_Band_5'][0],\n",
    "                    'eNodeB_identifier_int': df['eNodeB_identifier_int'][0],\n",
    "                    'Cell FDD TDD Indication_CELL_FDD': df['Cell FDD TDD Indication_CELL_FDD'][0],\n",
    "                    'Cell FDD TDD Indication_CELL_TDD': df['Cell FDD TDD Indication_CELL_TDD'][0],\n",
    "                    'City Type_Rural': df['City Type_Rural'][0],\n",
    "                    'City Type_Urbain': df['City Type_Urbain'][0],\n",
    "                    'City Type_Urbain dense': df['City Type_Urbain dense'][0]          \n",
    "                    }\n",
    "            #print (data)\n",
    "            new_row=pd.DataFrame([data])\n",
    "            df_new=pd.concat([df_new,new_row])\n",
    "            df_new.sort_values('Date')\n",
    "    return df_new\n"
   ]
  },
  {
   "cell_type": "code",
   "execution_count": 8,
   "metadata": {},
   "outputs": [],
   "source": [
    "\n",
    "def replace_missing_dates_all(df) -> pd.DataFrame :\n",
    "    cells=df[[\"eNodeB identity\",'Cell ID']]\n",
    "    cells=cells.drop_duplicates()\n",
    "    start_date=df['Date'].min()\n",
    "    end_date=df['Date'].max()\n",
    "\n",
    "    for index, row in cells.iterrows():\n",
    "        df_cell=df[(df[\"eNodeB identity\"]==row[0]) & (df[\"Cell ID\"]==row[1])]\n",
    "        df_cell=df_cell.reset_index(drop=True)\n",
    "\n",
    "        df_cell=replace_missing_dates(df_cell, start_date, end_date)\n",
    "        if index==0:\n",
    "            df_new=df_cell\n",
    "        elif index<2000:\n",
    "            df_new=pd.concat([df_new,df_cell])\n",
    "        else:\n",
    "            break\n",
    "\n",
    "    return df_new\n"
   ]
  },
  {
   "cell_type": "code",
   "execution_count": 9,
   "metadata": {},
   "outputs": [
    {
     "data": {
      "text/plain": [
       "(401580, 30)"
      ]
     },
     "execution_count": 9,
     "metadata": {},
     "output_type": "execute_result"
    }
   ],
   "source": [
    "df_processed_completed = replace_missing_dates_all(processed_data)\n",
    "df_processed_completed.shape"
   ]
  },
  {
   "cell_type": "markdown",
   "metadata": {},
   "source": [
    "format the dataframe global to X with 3 dimensions X.shape=(number of cell, number of days, number of features)"
   ]
  },
  {
   "cell_type": "code",
   "execution_count": 10,
   "metadata": {},
   "outputs": [],
   "source": [
    "def create_X_y(df) ->np.array :\n",
    "    cells=df[[\"eNodeB identity\",'Cell ID','eNodeB_identifier_int']].sort_values(by='eNodeB_identifier_int')\n",
    "    cells=cells.drop_duplicates()\n",
    "    #start_date=df['Date'].min()\n",
    "    #end_date=df['Date'].max()\n",
    "    #print (cells.shape)\n",
    "    data=[]\n",
    "    data_y=[]\n",
    "    for index, row in cells.iterrows():\n",
    "        df_cell=df[(df[\"eNodeB identity\"]==row[0]) & (df[\"Cell ID\"]==row[1])].sort_values(by='Date')\n",
    "        #df_cell=df_cell.reset_index(drop=True)\n",
    "        \n",
    "        #df_cell=replace_missing_dates(df_cell, start_date, end_date)\n",
    "        \"\"\" for modeling, the X and y should not contain sequences identty (eNodeB id and cell id)\"\"\"\n",
    "        df_cell.drop('eNodeB identity', axis=1, inplace=True)\n",
    "        df_cell.drop('Cell ID', axis=1, inplace=True)\n",
    "        df_cell.drop('Date', axis=1, inplace=True)\n",
    "        df_cell.drop('eNodeB_identifier_int', axis=1, inplace=True)\n",
    "        \"\"\"---------------------\"\"\"\n",
    "        df_cell_y=df_cell['Trafic LTE.float']\n",
    "        \n",
    "        data.append(df_cell)\n",
    "        data_y.append(df_cell_y)\n",
    "\n",
    "    #print (len(data))\n",
    "\n",
    "\n",
    "    X=np.array(data)\n",
    "    y=np.array(data_y)\n",
    "    y=np.expand_dims(np.array(y), axis=2)\n",
    "    return cells, X , y"
   ]
  },
  {
   "cell_type": "code",
   "execution_count": 11,
   "metadata": {},
   "outputs": [],
   "source": [
    "cells,X,y=create_X_y(df_processed_completed)"
   ]
  },
  {
   "cell_type": "code",
   "execution_count": 12,
   "metadata": {},
   "outputs": [
    {
     "data": {
      "text/plain": [
       "((1164, 345, 26), (1164, 345, 1))"
      ]
     },
     "execution_count": 12,
     "metadata": {},
     "output_type": "execute_result"
    }
   ],
   "source": [
    "X.shape, y.shape"
   ]
  },
  {
   "cell_type": "code",
   "execution_count": 28,
   "metadata": {},
   "outputs": [
    {
     "data": {
      "text/plain": [
       "((1164, 345, 26), (1164, 100, 26), (500, 345, 26))"
      ]
     },
     "execution_count": 28,
     "metadata": {},
     "output_type": "execute_result"
    }
   ],
   "source": [
    "X.shape, X[:,:100,:].shape, X[:500,:,:].shape"
   ]
  },
  {
   "cell_type": "code",
   "execution_count": 33,
   "metadata": {},
   "outputs": [],
   "source": [
    "def split_train_test(X,y, ratio=0.8) ->tuple:\n",
    "    X_train, X_test = X[:,:int(ratio*X.shape[1]),:], X[:,int(ratio*X.shape[1]):,:]\n",
    "    y_train, y_test = y[:,:int(ratio*y.shape[1]),:], y[:,int(ratio*y.shape[1]):,:]\n",
    "    \n",
    "    return X_train, X_test, y_train, y_test"
   ]
  },
  {
   "cell_type": "code",
   "execution_count": 34,
   "metadata": {},
   "outputs": [
    {
     "data": {
      "text/plain": [
       "((1164, 276, 26), (1164, 69, 26), (1164, 276, 1), (1164, 69, 1))"
      ]
     },
     "execution_count": 34,
     "metadata": {},
     "output_type": "execute_result"
    }
   ],
   "source": [
    "X_train, X_test, y_train, y_test=split_train_test(X,y, ratio=0.8)\n",
    "X_train.shape, X_test.shape, y_train.shape, y_test.shape"
   ]
  },
  {
   "cell_type": "code",
   "execution_count": 44,
   "metadata": {},
   "outputs": [
    {
     "data": {
      "text/plain": [
       "((1164, 220, 26), (1164, 56, 26), (1164, 220, 1), (1164, 56, 1))"
      ]
     },
     "execution_count": 44,
     "metadata": {},
     "output_type": "execute_result"
    }
   ],
   "source": [
    "X_train, X_val, y_train, y_val=split_train_test(X_train,y_train, ratio=0.8)\n",
    "X_train.shape, X_val.shape, y_train.shape, y_val.shape"
   ]
  },
  {
   "cell_type": "code",
   "execution_count": 49,
   "metadata": {},
   "outputs": [],
   "source": [
    "def initialize_model(input_shape: tuple, output_length) -> models:\n",
    "    #output_length = y_train.shape[1]\n",
    "    #input_shape =(X.shape[1],X.shape[2])\n",
    "    \"\"\"\n",
    "    Initialize the Neural Network with random weights\n",
    "    \"\"\"\n",
    "\n",
    "    model = models.Sequential()\n",
    "    \n",
    "    ## 1.1 - Recurrent Layer\n",
    "    model.add(layers.Masking(mask_value=0.0, input_shape=input_shape))\n",
    "    #model.add(layers.SimpleRNN(units=2, activation='tanh', input_shape=input_shape))\n",
    "    model.add(GRU(units=16, activation='tanh', input_shape=input_shape))\n",
    "        \n",
    "    '''\n",
    "    model.add(layers.LSTM(units=64,\n",
    "                        activation='relu',\n",
    "                        return_sequences = True,\n",
    "                        kernel_regularizer=L1L2(l1=0.05, l2=0.05),\n",
    "                         ))\n",
    "    '''\n",
    "                     \n",
    "    ## 1.2 - Hidden Dense Layers\n",
    "    \n",
    "    model.add(layers.Dense(32, activation=\"relu\", kernel_regularizer = L1L2(l1=0.05, l2=0.05)))\n",
    "    #model.add(layers.Dense(64, activation=\"relu\"))\n",
    "    #model.add(layers.Dense(128, activation=\"relu\"))\n",
    "    #model.add(layers.Dense(64, activation=\"relu\"))\n",
    "    #model.add(layers.Dense(32, activation=\"relu\"))\n",
    "    model.add(layers.Dense(16, activation=\"relu\"))\n",
    "    model.add(layers.Dropout(rate=0.5))\n",
    "    \n",
    "    ## 1.2 - Predictive Dense Layers\n",
    "\n",
    "    model.add(layers.Dense(output_length, activation='linear'))\n",
    "\n",
    "    return model\n",
    "\n",
    "\n",
    "def compile_model(model: models) -> models:\n",
    "    \"\"\"\n",
    "    Compile the Neural Network\n",
    "    \"\"\"\n",
    "\n",
    "    # 2 - Compiler\n",
    "    # ======================\n",
    "    initial_learning_rate = 0.01\n",
    "\n",
    "    #lr_schedule = ExponentialDecay(initial_learning_rate, decay_steps=1000, decay_rate=0.5)\n",
    "\n",
    "    #adam = optimizers.Adam(learning_rate=initial_learning_rate)\n",
    "    #model.compile(loss='mse', optimizer=adam, metrics=[\"mae\"])\n",
    "    \n",
    "    model.compile(loss='mse', optimizer='rmsprop', metrics=[\"mae\", \"mape\"] )\n",
    "\n",
    "    return model\n",
    "\n",
    "def train_model(\n",
    "        model: models,\n",
    "        X: np.ndarray,\n",
    "        y: np.ndarray,\n",
    "        patience=20,\n",
    "        validation_data=None, # overrides validation_split\n",
    "        ) -> Tuple[tensorflow.keras.Model, dict]:\n",
    "    \"\"\"\n",
    "    Fit the model and return a tuple (fitted_model, history)\n",
    "    \"\"\"\n",
    "    \n",
    "    es = EarlyStopping(monitor = \"val_loss\",\n",
    "                      patience = patience,\n",
    "                      mode = \"min\",\n",
    "                      restore_best_weights = True)\n",
    "    \n",
    "\n",
    "    history = model.fit(X, y,\n",
    "                        validation_data = validation_data,                        \n",
    "                        batch_size = 32,\n",
    "                        epochs = 100,\n",
    "                        callbacks = [es],\n",
    "                        verbose = 1)\n",
    "\n",
    "    return model, history"
   ]
  },
  {
   "cell_type": "code",
   "execution_count": 46,
   "metadata": {},
   "outputs": [],
   "source": [
    "input_shape =(X_train.shape[1],X_train.shape[2])\n",
    "output_length = y_train.shape[1]"
   ]
  },
  {
   "cell_type": "code",
   "execution_count": 47,
   "metadata": {},
   "outputs": [],
   "source": [
    "rnn=initialize_model(input_shape, output_length)"
   ]
  },
  {
   "cell_type": "code",
   "execution_count": 48,
   "metadata": {},
   "outputs": [],
   "source": [
    "rnn=compile_model(rnn)"
   ]
  },
  {
   "cell_type": "code",
   "execution_count": 50,
   "metadata": {},
   "outputs": [
    {
     "name": "stdout",
     "output_type": "stream",
     "text": [
      "Epoch 1/100\n",
      "37/37 [==============================] - ETA: 0s - loss: 12890.5146 - mae: 86.1529 - mape: 2532142.7500"
     ]
    },
    {
     "ename": "ValueError",
     "evalue": "in user code:\n\n    File \"/home/farah/.pyenv/versions/3.10.6/envs/intelligent_network_expansion/lib/python3.10/site-packages/keras/src/engine/training.py\", line 1972, in test_function  *\n        return step_function(self, iterator)\n    File \"/home/farah/.pyenv/versions/3.10.6/envs/intelligent_network_expansion/lib/python3.10/site-packages/keras/src/engine/training.py\", line 1956, in step_function  **\n        outputs = model.distribute_strategy.run(run_step, args=(data,))\n    File \"/home/farah/.pyenv/versions/3.10.6/envs/intelligent_network_expansion/lib/python3.10/site-packages/keras/src/engine/training.py\", line 1944, in run_step  **\n        outputs = model.test_step(data)\n    File \"/home/farah/.pyenv/versions/3.10.6/envs/intelligent_network_expansion/lib/python3.10/site-packages/keras/src/engine/training.py\", line 1850, in test_step\n        y_pred = self(x, training=False)\n    File \"/home/farah/.pyenv/versions/3.10.6/envs/intelligent_network_expansion/lib/python3.10/site-packages/keras/src/utils/traceback_utils.py\", line 70, in error_handler\n        raise e.with_traceback(filtered_tb) from None\n    File \"/home/farah/.pyenv/versions/3.10.6/envs/intelligent_network_expansion/lib/python3.10/site-packages/keras/src/engine/input_spec.py\", line 298, in assert_input_compatibility\n        raise ValueError(\n\n    ValueError: Input 0 of layer \"sequential_3\" is incompatible with the layer: expected shape=(None, 220, 26), found shape=(None, 56, 26)\n",
     "output_type": "error",
     "traceback": [
      "\u001b[0;31m---------------------------------------------------------------------------\u001b[0m",
      "\u001b[0;31mValueError\u001b[0m                                Traceback (most recent call last)",
      "Cell \u001b[0;32mIn[50], line 1\u001b[0m\n\u001b[0;32m----> 1\u001b[0m rnn, history\u001b[38;5;241m=\u001b[39m\u001b[43mtrain_model\u001b[49m\u001b[43m(\u001b[49m\n\u001b[1;32m      2\u001b[0m \u001b[43m        \u001b[49m\u001b[43mrnn\u001b[49m\u001b[43m,\u001b[49m\n\u001b[1;32m      3\u001b[0m \u001b[43m        \u001b[49m\u001b[43mX_train\u001b[49m\u001b[43m,\u001b[49m\n\u001b[1;32m      4\u001b[0m \u001b[43m        \u001b[49m\u001b[43my_train\u001b[49m\u001b[43m,\u001b[49m\n\u001b[1;32m      5\u001b[0m \u001b[43m        \u001b[49m\u001b[38;5;241;43m10\u001b[39;49m\u001b[43m,\u001b[49m\n\u001b[1;32m      6\u001b[0m \u001b[43m        \u001b[49m\u001b[43m(\u001b[49m\u001b[43mX_val\u001b[49m\u001b[43m,\u001b[49m\u001b[43m \u001b[49m\u001b[43my_val\u001b[49m\u001b[43m)\u001b[49m\u001b[43m \u001b[49m\n\u001b[1;32m      7\u001b[0m \u001b[43m        \u001b[49m\u001b[43m)\u001b[49m\n",
      "Cell \u001b[0;32mIn[49], line 75\u001b[0m, in \u001b[0;36mtrain_model\u001b[0;34m(model, X, y, patience, validation_data)\u001b[0m\n\u001b[1;32m     65\u001b[0m \u001b[38;5;250m\u001b[39m\u001b[38;5;124;03m\"\"\"\u001b[39;00m\n\u001b[1;32m     66\u001b[0m \u001b[38;5;124;03mFit the model and return a tuple (fitted_model, history)\u001b[39;00m\n\u001b[1;32m     67\u001b[0m \u001b[38;5;124;03m\"\"\"\u001b[39;00m\n\u001b[1;32m     69\u001b[0m es \u001b[38;5;241m=\u001b[39m EarlyStopping(monitor \u001b[38;5;241m=\u001b[39m \u001b[38;5;124m\"\u001b[39m\u001b[38;5;124mval_loss\u001b[39m\u001b[38;5;124m\"\u001b[39m,\n\u001b[1;32m     70\u001b[0m                   patience \u001b[38;5;241m=\u001b[39m patience,\n\u001b[1;32m     71\u001b[0m                   mode \u001b[38;5;241m=\u001b[39m \u001b[38;5;124m\"\u001b[39m\u001b[38;5;124mmin\u001b[39m\u001b[38;5;124m\"\u001b[39m,\n\u001b[1;32m     72\u001b[0m                   restore_best_weights \u001b[38;5;241m=\u001b[39m \u001b[38;5;28;01mTrue\u001b[39;00m)\n\u001b[0;32m---> 75\u001b[0m history \u001b[38;5;241m=\u001b[39m \u001b[43mmodel\u001b[49m\u001b[38;5;241;43m.\u001b[39;49m\u001b[43mfit\u001b[49m\u001b[43m(\u001b[49m\u001b[43mX\u001b[49m\u001b[43m,\u001b[49m\u001b[43m \u001b[49m\u001b[43my\u001b[49m\u001b[43m,\u001b[49m\n\u001b[1;32m     76\u001b[0m \u001b[43m                    \u001b[49m\u001b[43mvalidation_data\u001b[49m\u001b[43m \u001b[49m\u001b[38;5;241;43m=\u001b[39;49m\u001b[43m \u001b[49m\u001b[43mvalidation_data\u001b[49m\u001b[43m,\u001b[49m\u001b[43m                        \u001b[49m\n\u001b[1;32m     77\u001b[0m \u001b[43m                    \u001b[49m\u001b[43mbatch_size\u001b[49m\u001b[43m \u001b[49m\u001b[38;5;241;43m=\u001b[39;49m\u001b[43m \u001b[49m\u001b[38;5;241;43m32\u001b[39;49m\u001b[43m,\u001b[49m\n\u001b[1;32m     78\u001b[0m \u001b[43m                    \u001b[49m\u001b[43mepochs\u001b[49m\u001b[43m \u001b[49m\u001b[38;5;241;43m=\u001b[39;49m\u001b[43m \u001b[49m\u001b[38;5;241;43m100\u001b[39;49m\u001b[43m,\u001b[49m\n\u001b[1;32m     79\u001b[0m \u001b[43m                    \u001b[49m\u001b[43mcallbacks\u001b[49m\u001b[43m \u001b[49m\u001b[38;5;241;43m=\u001b[39;49m\u001b[43m \u001b[49m\u001b[43m[\u001b[49m\u001b[43mes\u001b[49m\u001b[43m]\u001b[49m\u001b[43m,\u001b[49m\n\u001b[1;32m     80\u001b[0m \u001b[43m                    \u001b[49m\u001b[43mverbose\u001b[49m\u001b[43m \u001b[49m\u001b[38;5;241;43m=\u001b[39;49m\u001b[43m \u001b[49m\u001b[38;5;241;43m1\u001b[39;49m\u001b[43m)\u001b[49m\n\u001b[1;32m     82\u001b[0m \u001b[38;5;28;01mreturn\u001b[39;00m model, history\n",
      "File \u001b[0;32m~/.pyenv/versions/3.10.6/envs/intelligent_network_expansion/lib/python3.10/site-packages/keras/src/utils/traceback_utils.py:70\u001b[0m, in \u001b[0;36mfilter_traceback.<locals>.error_handler\u001b[0;34m(*args, **kwargs)\u001b[0m\n\u001b[1;32m     67\u001b[0m     filtered_tb \u001b[38;5;241m=\u001b[39m _process_traceback_frames(e\u001b[38;5;241m.\u001b[39m__traceback__)\n\u001b[1;32m     68\u001b[0m     \u001b[38;5;66;03m# To get the full stack trace, call:\u001b[39;00m\n\u001b[1;32m     69\u001b[0m     \u001b[38;5;66;03m# `tf.debugging.disable_traceback_filtering()`\u001b[39;00m\n\u001b[0;32m---> 70\u001b[0m     \u001b[38;5;28;01mraise\u001b[39;00m e\u001b[38;5;241m.\u001b[39mwith_traceback(filtered_tb) \u001b[38;5;28;01mfrom\u001b[39;00m \u001b[38;5;28;01mNone\u001b[39;00m\n\u001b[1;32m     71\u001b[0m \u001b[38;5;28;01mfinally\u001b[39;00m:\n\u001b[1;32m     72\u001b[0m     \u001b[38;5;28;01mdel\u001b[39;00m filtered_tb\n",
      "File \u001b[0;32m/tmp/__autograph_generated_file488n321f.py:15\u001b[0m, in \u001b[0;36mouter_factory.<locals>.inner_factory.<locals>.tf__test_function\u001b[0;34m(iterator)\u001b[0m\n\u001b[1;32m     13\u001b[0m \u001b[38;5;28;01mtry\u001b[39;00m:\n\u001b[1;32m     14\u001b[0m     do_return \u001b[38;5;241m=\u001b[39m \u001b[38;5;28;01mTrue\u001b[39;00m\n\u001b[0;32m---> 15\u001b[0m     retval_ \u001b[38;5;241m=\u001b[39m ag__\u001b[38;5;241m.\u001b[39mconverted_call(ag__\u001b[38;5;241m.\u001b[39mld(step_function), (ag__\u001b[38;5;241m.\u001b[39mld(\u001b[38;5;28mself\u001b[39m), ag__\u001b[38;5;241m.\u001b[39mld(iterator)), \u001b[38;5;28;01mNone\u001b[39;00m, fscope)\n\u001b[1;32m     16\u001b[0m \u001b[38;5;28;01mexcept\u001b[39;00m:\n\u001b[1;32m     17\u001b[0m     do_return \u001b[38;5;241m=\u001b[39m \u001b[38;5;28;01mFalse\u001b[39;00m\n",
      "\u001b[0;31mValueError\u001b[0m: in user code:\n\n    File \"/home/farah/.pyenv/versions/3.10.6/envs/intelligent_network_expansion/lib/python3.10/site-packages/keras/src/engine/training.py\", line 1972, in test_function  *\n        return step_function(self, iterator)\n    File \"/home/farah/.pyenv/versions/3.10.6/envs/intelligent_network_expansion/lib/python3.10/site-packages/keras/src/engine/training.py\", line 1956, in step_function  **\n        outputs = model.distribute_strategy.run(run_step, args=(data,))\n    File \"/home/farah/.pyenv/versions/3.10.6/envs/intelligent_network_expansion/lib/python3.10/site-packages/keras/src/engine/training.py\", line 1944, in run_step  **\n        outputs = model.test_step(data)\n    File \"/home/farah/.pyenv/versions/3.10.6/envs/intelligent_network_expansion/lib/python3.10/site-packages/keras/src/engine/training.py\", line 1850, in test_step\n        y_pred = self(x, training=False)\n    File \"/home/farah/.pyenv/versions/3.10.6/envs/intelligent_network_expansion/lib/python3.10/site-packages/keras/src/utils/traceback_utils.py\", line 70, in error_handler\n        raise e.with_traceback(filtered_tb) from None\n    File \"/home/farah/.pyenv/versions/3.10.6/envs/intelligent_network_expansion/lib/python3.10/site-packages/keras/src/engine/input_spec.py\", line 298, in assert_input_compatibility\n        raise ValueError(\n\n    ValueError: Input 0 of layer \"sequential_3\" is incompatible with the layer: expected shape=(None, 220, 26), found shape=(None, 56, 26)\n"
     ]
    }
   ],
   "source": [
    "rnn, history=train_model(\n",
    "        rnn,\n",
    "        X_train,\n",
    "        y_train,\n",
    "        10,\n",
    "        (X_val, y_val) \n",
    "        )"
   ]
  },
  {
   "cell_type": "code",
   "execution_count": 20,
   "metadata": {},
   "outputs": [
    {
     "name": "stdout",
     "output_type": "stream",
     "text": [
      "Model: \"sequential\"\n",
      "_________________________________________________________________\n",
      " Layer (type)                Output Shape              Param #   \n",
      "=================================================================\n",
      " masking (Masking)           (None, 345, 26)           0         \n",
      "                                                                 \n",
      " gru (GRU)                   (None, 16)                2112      \n",
      "                                                                 \n",
      " dense (Dense)               (None, 32)                544       \n",
      "                                                                 \n",
      " dense_1 (Dense)             (None, 16)                528       \n",
      "                                                                 \n",
      " dropout (Dropout)           (None, 16)                0         \n",
      "                                                                 \n",
      " dense_2 (Dense)             (None, 345)               5865      \n",
      "                                                                 \n",
      "=================================================================\n",
      "Total params: 9049 (35.35 KB)\n",
      "Trainable params: 9049 (35.35 KB)\n",
      "Non-trainable params: 0 (0.00 Byte)\n",
      "_________________________________________________________________\n"
     ]
    }
   ],
   "source": [
    "rnn.summary()"
   ]
  },
  {
   "cell_type": "code",
   "execution_count": 21,
   "metadata": {},
   "outputs": [],
   "source": [
    "def plot_history(history):\n",
    "\n",
    "    fig, ax = plt.subplots(1,2, figsize=(20,7))\n",
    "    # --- LOSS: MSE ---\n",
    "    ax[0].plot(history.history['loss'])\n",
    "    ax[0].plot(history.history['val_loss'])\n",
    "    ax[0].set_title('MSE')\n",
    "    ax[0].set_ylabel('Loss')\n",
    "    ax[0].set_xlabel('Epoch')\n",
    "    ax[0].legend(['Train', 'Validation'], loc='best')\n",
    "    ax[0].grid(axis=\"x\",linewidth=0.5)\n",
    "    ax[0].grid(axis=\"y\",linewidth=0.5)\n",
    "\n",
    "    # --- METRICS:MAE ---\n",
    "\n",
    "    ax[1].plot(history.history['mae'])\n",
    "    ax[1].plot(history.history['val_mae'])\n",
    "    ax[1].set_title('MAE')\n",
    "    ax[1].set_ylabel('MAE')\n",
    "    ax[1].set_xlabel('Epoch')\n",
    "    ax[1].legend(['Train', 'Validation'], loc='best')\n",
    "    ax[1].grid(axis=\"x\",linewidth=0.5)\n",
    "    ax[1].grid(axis=\"y\",linewidth=0.5)\n",
    "\n",
    "    return ax"
   ]
  },
  {
   "cell_type": "code",
   "execution_count": 43,
   "metadata": {},
   "outputs": [
    {
     "data": {
      "image/png": "[encoded data removed]",
      "text/plain": [
       "<Figure size 2000x700 with 2 Axes>"
      ]
     },
     "metadata": {},
     "output_type": "display_data"
    }
   ],
   "source": [
    "plot_history(history);"
   ]
  },
  {
   "cell_type": "code",
   "execution_count": 23,
   "metadata": {},
   "outputs": [
    {
     "name": "stdout",
     "output_type": "stream",
     "text": [
      "8/8 [==============================] - 0s 43ms/step - loss: 2383.7300 - mae: 32.5771 - mape: 955749696.0000\n"
     ]
    }
   ],
   "source": [
    "res = rnn.evaluate(X_test, y_test)"
   ]
  },
  {
   "cell_type": "code",
   "execution_count": 24,
   "metadata": {},
   "outputs": [
    {
     "data": {
      "text/plain": [
       "[2383.72998046875, 32.5771484375, 955749696.0]"
      ]
     },
     "execution_count": 24,
     "metadata": {},
     "output_type": "execute_result"
    }
   ],
   "source": [
    "res"
   ]
  },
  {
   "cell_type": "code",
   "execution_count": 25,
   "metadata": {},
   "outputs": [
    {
     "name": "stdout",
     "output_type": "stream",
     "text": [
      "37/37 [==============================] - 3s 30ms/step\n"
     ]
    }
   ],
   "source": [
    "y_pred=rnn.predict(X)"
   ]
  },
  {
   "cell_type": "code",
   "execution_count": null,
   "metadata": {},
   "outputs": [],
   "source": []
  }
 ],
 "metadata": {
  "kernelspec": {
   "display_name": "Python 3 (ipykernel)",
   "language": "python",
   "name": "python3"
  },
  "language_info": {
   "codemirror_mode": {
    "name": "ipython",
    "version": 3
   },
   "file_extension": ".py",
   "mimetype": "text/x-python",
   "name": "python",
   "nbconvert_exporter": "python",
   "pygments_lexer": "ipython3",
   "version": "3.10.6"
  }
 },
 "nbformat": 4,
 "nbformat_minor": 4
}
