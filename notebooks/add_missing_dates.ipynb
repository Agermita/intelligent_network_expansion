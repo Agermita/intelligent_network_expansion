{
 "cells": [
  {
   "cell_type": "code",
   "execution_count": null,
   "metadata": {},
   "outputs": [],
   "source": [
    "import pandas as pd\n",
    "file_path=\"~/code/Agermita/intelligent_network_expansion/raw_data/LTE KPIs Part 2.csv\"\n",
    "\n",
    "df = pd.read_csv(file_path, sep = ';')\n",
    "df.columns"
   ]
  },
  {
   "cell_type": "code",
   "execution_count": null,
   "metadata": {},
   "outputs": [],
   "source": [
    "df['Date'] = pd.to_datetime(df['Date'], format='%Y-%m-%d')\n",
    "df.shape"
   ]
  },
  {
   "cell_type": "code",
   "execution_count": null,
   "metadata": {},
   "outputs": [],
   "source": [
    "def replace_missing_dates(df, start_date, end_date) -> pd.DataFrame :\n",
    "    missing_date=pd.date_range(start = start_date, end = end_date ).difference(df[\"Date\"])\n",
    "    \n",
    "    df_new=df.copy()\n",
    "    if(len(missing_date)>0):\n",
    "        for i in range(0,len(missing_date)):\n",
    "            data={'Date': missing_date[i], \n",
    "                    'eNodeB identity': df['eNodeB identity'][0], \n",
    "                    'Cell ID' : df['Cell ID'][0],\n",
    "                    'Cell FDD TDD Indication' :df['Cell FDD TDD Indication'][0],\n",
    "                    'Downlink EARFCN' :df['Downlink EARFCN'][0],\n",
    "                    'Downlink bandwidth' : df['Downlink bandwidth'][0],\n",
    "                    'LTECell Tx and Rx Mode': df['LTECell Tx and Rx Mode'][0],\n",
    "                    'Trafic LTE': 0,\n",
    "                    'L.Traffic.ActiveUser.Avg': 0,\n",
    "                    'DL throughput_GRP': 0,\n",
    "                    'DL PRB Usage(%)' : 0               \n",
    "                    }\n",
    "            print (data)\n",
    "            new_row=pd.DataFrame([data])\n",
    "            df_new=pd.concat([df_new,new_row])\n",
    "            df_new.sort_values('Date')\n",
    "    return df_new"
   ]
  },
  {
   "cell_type": "code",
   "execution_count": null,
   "metadata": {},
   "outputs": [],
   "source": [
    "def replace_missing_dates_all(df) -> pd.DataFrame :\n",
    "    cells=df[[\"eNodeB identity\",'Cell ID']]\n",
    "    cells=cells.drop_duplicates()\n",
    "    start_date=df['Date'].min()\n",
    "    end_date=df['Date'].max()\n",
    "\n",
    "    for index, row in cells.iterrows():\n",
    "        df_cell=df[(df[\"eNodeB identity\"]==row[0]) & (df[\"Cell ID\"]==row[1])]\n",
    "        df_cell=df_cell.reset_index(drop=True)\n",
    "\n",
    "        df_cell=replace_missing_dates(df_cell, start_date, end_date)\n",
    "        if index==0:\n",
    "            df_new=df_cell\n",
    "        else:\n",
    "            df_new=pd.concat([df_new,df_cell])\n",
    "\n",
    "    return df_new"
   ]
  },
  {
   "cell_type": "code",
   "execution_count": null,
   "metadata": {},
   "outputs": [],
   "source": [
    "df_with_missing_dates=replace_missing_dates_all(df)\n",
    "df_with_missing_dates.shape"
   ]
  }
 ],
 "metadata": {
  "language_info": {
   "name": "python"
  },
  "orig_nbformat": 4
 },
 "nbformat": 4,
 "nbformat_minor": 2
}
