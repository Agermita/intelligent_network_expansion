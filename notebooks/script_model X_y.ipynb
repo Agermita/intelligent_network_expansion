{
 "cells": [
  {
   "cell_type": "code",
   "execution_count": null,
   "metadata": {},
   "outputs": [],
   "source": [
    "import csv\n",
    "\n",
    "import numpy as np\n",
    "import pandas as pd\n",
    "pd.set_option(\"display.max_columns\", None)\n",
    "\n",
    "# Data Visualiation\n",
    "import matplotlib.pyplot as plt\n",
    "import seaborn as sns\n",
    "\n",
    "# System\n",
    "import os\n",
    "\n",
    "# Deep Learning\n",
    "\n",
    "from typing import Dict, List, Tuple, Sequence\n"
   ]
  },
  {
   "cell_type": "code",
   "execution_count": null,
   "metadata": {},
   "outputs": [],
   "source": [
    "file_path=\"/content/drive/MyDrive/data_finale_V4.csv\"\n",
    "\n",
    "processed_data = pd.read_csv(file_path, sep=',')\n",
    "processed_data.columns"
   ]
  },
  {
   "cell_type": "code",
   "execution_count": null,
   "metadata": {},
   "outputs": [],
   "source": [
    "processed_data.drop('Unnamed: 0', axis=1, inplace=True)\n",
    "processed_data['Date'] = pd.to_datetime(processed_data['Date'], format='%Y-%m-%d')\n",
    "processed_data.dtypes"
   ]
  },
  {
   "cell_type": "code",
   "execution_count": null,
   "metadata": {},
   "outputs": [],
   "source": [
    "def get_cells_data(df) ->np.array :\n",
    "    cells=df[[\"eNodeB identity\",'Cell ID','eNodeB_identifier_int']].sort_values(by='eNodeB_identifier_int')\n",
    "    cells=cells.drop_duplicates()\n",
    "\n",
    "\n",
    "    data=[]\n",
    "\n",
    "    for index, row in cells.iterrows():\n",
    "        df_cell=df[(df[\"eNodeB identity\"]==row[0]) & (df[\"Cell ID\"]==row[1])]\n",
    "        df_cell=df_cell.sort_values(by='eNodeB_identifier_int')\n",
    "        df_cell=df_cell.reset_index(drop=True)\n",
    "        df_cell_1=df_cell.copy()\n",
    "        df_cell_1.drop(['Date','eNodeB identity', 'Cell ID', 'eNodeB_identifier_int'], axis=1, inplace=True)\n",
    "        data.append(df_cell_1)\n",
    "\n",
    "\n",
    "    cells_data=np.array(data)\n",
    "\n",
    "    return cells_data"
   ]
  },
  {
   "cell_type": "code",
   "execution_count": null,
   "metadata": {},
   "outputs": [],
   "source": [
    "def train_test_split(data_cell:pd.DataFrame,\n",
    "                     train_test_ratio: float,\n",
    "                     input_length: int) -> Tuple[pd.DataFrame]:\n",
    "    \"\"\"From a fold dataframe, take a train dataframe and test dataframe based on\n",
    "    the split ratio.\n",
    "    - df_train should contain all the timesteps until round(train_test_ratio * len(fold))\n",
    "    - df_test should contain all the timesteps needed to create all (X_test, y_test) tuples\n",
    "\n",
    "    Args:\n",
    "        data_cell (pd.DataFrame): chronological data of one cell\n",
    "        train_test_ratio (float): The ratio between train and test 0-1\n",
    "        input_length (int): How long each X_i will be : 3 month 90 days\n",
    "\n",
    "    Returns:\n",
    "        Tuple[pd.DataFrame]: A tuple of two dataframes (fold_train, fold_test)\n",
    "    \"\"\"\n",
    "    # $CHALLENGIFY_BEGIN\n",
    "\n",
    "    # TRAIN SET\n",
    "    # ======================\n",
    "    last_train_idx = round(train_test_ratio * len(data_cell))\n",
    "\n",
    "    print (last_train_idx)\n",
    "    data_cell_train = data_cell.iloc[0:last_train_idx, :]\n",
    "\n",
    "    # TEST SET\n",
    "    # ======================\n",
    "    first_test_idx = last_train_idx - input_length\n",
    "\n",
    "    data_cell_test = data_cell.iloc[first_test_idx:, :]\n",
    "\n",
    "    return (data_cell_train, data_cell_test)\n",
    "\n",
    "    # $CHALLENGIFY_END"
   ]
  },
  {
   "cell_type": "code",
   "execution_count": null,
   "metadata": {},
   "outputs": [],
   "source": [
    "def get_Xi_yi(\n",
    "    data_cell:pd.DataFrame,\n",
    "    input_length:int,\n",
    "    output_length:int,\n",
    "    start_index:int) -> Tuple[pd.DataFrame]:\n",
    "    \"\"\"given a fold, it returns one sequence (X_i, y_i) as based on the desired\n",
    "    input_length and output_length with the starting point of the sequence being chosen at random based\n",
    "\n",
    "    Args:\n",
    "        data_cell (pd.DataFrame): data of a single cell\n",
    "        input_length (int): How long each X_i should be --> 3 months\n",
    "        output_length (int): How long each y_i should be --> 1 month\n",
    "        start_index (int) : where to start the X_i\n",
    "\n",
    "    Returns:\n",
    "        Tuple[pd.DataFrame]: A tuple of two dataframes (X_i, y_i)\n",
    "    \"\"\"\n",
    "\n",
    "    X_i = data_cell.iloc[start_index:start_index+input_length]\n",
    "\n",
    "\n",
    "    y_i = data_cell.iloc[start_index+input_length:\n",
    "                  start_index+input_length+output_length][['Trafic LTE.float']]\n",
    "\n",
    "    return (X_i, y_i)\n",
    "    # $CHALLENGIFY_END"
   ]
  },
  {
   "cell_type": "code",
   "execution_count": null,
   "metadata": {},
   "outputs": [],
   "source": [
    "def get_X_y(\n",
    "    cell_data:pd.DataFrame,\n",
    "    input_length:int,\n",
    "    output_length:int) -> Tuple[list]:\n",
    "    \"\"\"Given a fold generate X and y based on the number of desired sequences\n",
    "    of the given input_length and output_length\n",
    "\n",
    "    Args:\n",
    "        cell_data (pd.DataFrame): cell dataframe\n",
    "        input_length (int): Length of each X_i\n",
    "        output_length (int): Length of each y_i\n",
    "\n",
    "    Returns:\n",
    "        Tuple[np.array]: A tuple of numpy arrays (X, y)\n",
    "    \"\"\"\n",
    "    # $CHALLENGIFY_BEGIN\n",
    "    X, y = [], []\n",
    "\n",
    "\n",
    "    number_of_sequences=len(cell_data) - (input_length + output_length) + 1\n",
    "\n",
    "    for i in range(number_of_sequences):\n",
    "        (Xi, yi) = get_Xi_yi(cell_data, input_length, output_length, i)\n",
    "\n",
    "        X_i=pd.DataFrame(Xi)\n",
    "        X_i.drop('Trafic LTE.float', axis=1, inplace=True) # delete original trafic column\n",
    "\n",
    "        X_i = X_i.apply( pd.to_numeric, errors='coerce' )\n",
    "        yi = yi.apply( pd.to_numeric, errors='coerce' )\n",
    "\n",
    "        X.append(X_i)\n",
    "        y.append(yi)\n",
    "        #np.array(y)\n",
    "    return X, y\n",
    "    # $CHALLENGIFY_END"
   ]
  },
  {
   "cell_type": "code",
   "execution_count": null,
   "metadata": {},
   "outputs": [],
   "source": [
    "cells_data=get_cells_data(processed_data)"
   ]
  },
  {
   "cell_type": "code",
   "execution_count": null,
   "metadata": {},
   "outputs": [],
   "source": [
    "INPUT_LENGTH=90\n",
    "OUTPUT_LENGTH=30\n",
    "columns=list(processed_data.columns)\n",
    "columns.remove('Date')\n",
    "columns.remove('eNodeB identity')\n",
    "columns.remove('Cell ID')\n",
    "columns.remove('eNodeB_identifier_int')"
   ]
  },
  {
   "cell_type": "code",
   "execution_count": null,
   "metadata": {},
   "outputs": [],
   "source": [
    "cell_index=0\n",
    "\n",
    "for cell_data in cells_data :\n",
    "  cell_i_data=pd.DataFrame(cell_data)\n",
    "  cell_i_data.columns=columns\n",
    "  data_cell_i_train, data_cell_i_test=train_test_split(cell_i_data, 0.8, 90) # 90 days\n",
    "  X_train, y_train = get_X_y(data_cell_i_train, INPUT_LENGTH, OUTPUT_LENGTH)\n",
    "  X_test, y_test = get_X_y(data_cell_i_test, INPUT_LENGTH, OUTPUT_LENGTH)\n",
    "  print (cell_index)\n",
    "  if cell_index==0:\n",
    "    X_train_all=X_train\n",
    "    y_train_all=y_train\n",
    "    X_test_all=X_test\n",
    "    y_test_all=y_test\n",
    "  else :\n",
    "    X_train_all=X_train_all + X_train\n",
    "    y_train_all=y_train_all + y_train\n",
    "    X_test_all=X_test_all + X_test\n",
    "    y_test_all=y_test_all +y_test\n",
    "    print (len(X_train_all), len(y_train_all), len(X_test_all), len(y_test_all))\n",
    "\n",
    "  cell_index=cell_index+1\n",
    "  # the memory of collab is fully used when arriving to 2283 cells\n",
    "  if cell_index==1000:\n",
    "    break\n",
    "X_train_all_array=np.array(X_train_all)\n",
    "y_train_all_array=np.array(y_train_all)\n",
    "X_test_all_array=np.array(X_test_all)\n",
    "y_test_all_array=np.array(y_test_all)\n",
    "\n",
    "X_train_all_array.shape, y_train_all_array.shape,X_test_all_array.shape, y_test_all_array.shape"
   ]
  },
  {
   "cell_type": "code",
   "execution_count": null,
   "metadata": {},
   "outputs": [],
   "source": [
    "# Save X and y into csv files\n",
    "file_path_X_train=\"/content/drive/MyDrive/X_train_all.csv\"\n",
    "file_path_y_train=\"/content/drive/MyDrive/y_train_all.csv\"\n",
    "file_path_X_test=\"/content/drive/MyDrive/X_test_all.csv\"\n",
    "file_path_y_test=\"/content/drive/MyDrive/y_test_all.csv\"\n",
    "\n",
    "\n",
    "with open(file_path_X_train, 'w', newline='') as csvfile_X_train:\n",
    "    writer = csv.writer(csvfile_X_train, delimiter=',')\n",
    "    writer.writerows(X_train_all_array)\n"
   ]
  },
  {
   "cell_type": "code",
   "execution_count": null,
   "metadata": {},
   "outputs": [],
   "source": [
    "with open(file_path_y_train, 'w', newline='') as csvfile_y_train:\n",
    "    writer = csv.writer(csvfile_y_train, delimiter=',')\n",
    "    writer.writerows(y_train_all_array)"
   ]
  },
  {
   "cell_type": "code",
   "execution_count": null,
   "metadata": {},
   "outputs": [],
   "source": [
    "with open(file_path_X_test, 'w', newline='') as csvfile_X_test:\n",
    "    writer = csv.writer(csvfile_X_test, delimiter=',')\n",
    "    writer.writerows(X_test_all_array)"
   ]
  },
  {
   "cell_type": "code",
   "execution_count": null,
   "metadata": {},
   "outputs": [],
   "source": [
    "with open(file_path_y_test, 'w', newline='') as csvfile_y_test:\n",
    "    writer = csv.writer(csvfile_y_test, delimiter=',')\n",
    "    writer.writerows(y_test_all_array)"
   ]
  },
  {
   "cell_type": "code",
   "execution_count": null,
   "metadata": {},
   "outputs": [],
   "source": []
  }
 ],
 "metadata": {
  "kernelspec": {
   "display_name": "intelligent_network_expansion",
   "language": "python",
   "name": "python3"
  },
  "language_info": {
   "codemirror_mode": {
    "name": "ipython",
    "version": 3
   },
   "file_extension": ".py",
   "mimetype": "text/x-python",
   "name": "python",
   "nbconvert_exporter": "python",
   "pygments_lexer": "ipython3",
   "version": "3.10.6"
  },
  "orig_nbformat": 4
 },
 "nbformat": 4,
 "nbformat_minor": 2
}
